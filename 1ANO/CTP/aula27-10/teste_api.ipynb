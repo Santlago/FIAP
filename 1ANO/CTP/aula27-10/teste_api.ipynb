{
  "cells": [
    {
      "cell_type": "code",
      "execution_count": 1,
      "metadata": {
        "id": "4zA872RXCW-w"
      },
      "outputs": [],
      "source": [
        "import requests"
      ]
    },
    {
      "cell_type": "code",
      "execution_count": 2,
      "metadata": {
        "id": "9tdgVfHtCeCT"
      },
      "outputs": [],
      "source": [
        "def mostrar_filme(busca, key):\n",
        "    try:\n",
        "        # Direcionei a requisição da API e forneci os dados que você precisa\n",
        "        url = f\"https://www.omdbapi.com/?t={busca}&apikey={key}\"\n",
        "        requisicao = requests.get(url)\n",
        "\n",
        "        # Verifiquei se a resposta da API foi bem-sucedida (código de status 200)\n",
        "        if requisicao.status_code == 200:\n",
        "            requisicao_dic = requisicao.json()\n",
        "\n",
        "            # Verifiquei se o filme foi encontrado (pode verificar a presença da chave 'Response' no JSON)\n",
        "            if requisicao_dic.get('Response') == 'True':\n",
        "                titulo = requisicao_dic.get('Title', 'Título desconhecido')\n",
        "                ano = requisicao_dic.get('Year', 'Ano desconhecido')\n",
        "                genero = requisicao_dic.get('Genre', 'Gênero desconhecido')\n",
        "                trama = requisicao_dic.get('Plot', 'Trama desconhecida')\n",
        "\n",
        "                print(f'''\n",
        "                    Título: {titulo}\n",
        "                    Ano de lançamento: {ano}\n",
        "                    Gênero: {genero}\n",
        "                    Trama: {trama}\n",
        "                ''')\n",
        "            else:\n",
        "                print(\"Filme não encontrado.\")\n",
        "        else:\n",
        "            print(f\"Erro ao consultar a API. Código de status: {requisicao.status_code}\")\n",
        "    except requests.exceptions.RequestException as e:\n",
        "        print(f\"Erro na requisição: {e}\")\n",
        "    except Exception as e:\n",
        "        print(f\"Ocorreu um erro inesperado: {e}\")\n",
        "\n"
      ]
    },
    {
      "cell_type": "code",
      "execution_count": 4,
      "metadata": {
        "colab": {
          "base_uri": "https://localhost:8080/"
        },
        "id": "KF3efugQD_bX",
        "outputId": "b1323285-6a74-4ad0-c878-62bafef2a1e6"
      },
      "outputs": [
        {
          "name": "stdout",
          "output_type": "stream",
          "text": [
            "\n",
            "                    Título: Matrix\n",
            "                    Ano de lançamento: 1993\n",
            "                    Gênero: Action, Drama, Fantasy\n",
            "                    Trama: Steven Matrix is one of the underworld's foremost hitmen until his luck runs out, and someone puts a contract out on him. Shot in the forehead by a .22 pistol, Matrix \"dies\" and finds himself in \"The City In Between\", where he is ...\n",
            "                \n"
          ]
        }
      ],
      "source": [
        "busca = input(\"Digite um filme: \")\n",
        "key = input(\"Digite a chave da api: \")\n",
        "mostrar_filme(busca, key)"
      ]
    }
  ],
  "metadata": {
    "colab": {
      "provenance": []
    },
    "kernelspec": {
      "display_name": "Python 3",
      "name": "python3"
    },
    "language_info": {
      "codemirror_mode": {
        "name": "ipython",
        "version": 3
      },
      "file_extension": ".py",
      "mimetype": "text/x-python",
      "name": "python",
      "nbconvert_exporter": "python",
      "pygments_lexer": "ipython3",
      "version": "3.11.6"
    }
  },
  "nbformat": 4,
  "nbformat_minor": 0
}
