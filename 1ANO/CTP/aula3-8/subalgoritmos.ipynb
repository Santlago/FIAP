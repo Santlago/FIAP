{
 "cells": [
  {
   "cell_type": "markdown",
   "metadata": {},
   "source": [
    "## Apresentando o Jupyter\n",
    "\n",
    "**Markdown** <br>\n",
    "Utilizando este recurso para comentar e apresentar a aplicação\n",
    "\n",
    "**Apresentando código**\n",
    "```\n",
    "def soma(n1: float, n2: float) -> float:\n",
    "    return n1 + n2\n",
    "```\n",
    "\n",
    "**Apresentando código Python**\n",
    "```python\n",
    "def soma(n1: float, n2: float) -> float:\n",
    "    return n1 + n2\n",
    "```"
   ]
  },
  {
   "cell_type": "code",
   "execution_count": 3,
   "metadata": {},
   "outputs": [
    {
     "name": "stdout",
     "output_type": "stream",
     "text": [
      "Somatória: 112\n"
     ]
    }
   ],
   "source": [
    "def soma(n1: float, n2: float) -> float:\n",
    "    return n1 + n2\n",
    "\n",
    "print(f\"Somatória: {soma(45, 67)}\")"
   ]
  },
  {
   "cell_type": "markdown",
   "metadata": {},
   "source": [
    "Criando uma função que calcula a média"
   ]
  },
  {
   "cell_type": "code",
   "execution_count": 4,
   "metadata": {},
   "outputs": [
    {
     "name": "stdout",
     "output_type": "stream",
     "text": [
      "Média: 56.0\n"
     ]
    }
   ],
   "source": [
    "def media(n1: float, n2: float) -> float:\n",
    "    return (n1 + n2) / 2\n",
    "\n",
    "print(f\"Média: {media(45, 67)}\")"
   ]
  },
  {
   "cell_type": "markdown",
   "metadata": {},
   "source": [
    "# Programa principal"
   ]
  },
  {
   "cell_type": "code",
   "execution_count": 5,
   "metadata": {},
   "outputs": [
    {
     "name": "stdout",
     "output_type": "stream",
     "text": [
      "Somatória: 112\n",
      "Média: 56.0\n"
     ]
    }
   ],
   "source": [
    "print(f\"Somatória: {soma(45, 67)}\")\n",
    "print(f\"Média: {media(45, 67)}\")"
   ]
  },
  {
   "cell_type": "markdown",
   "metadata": {},
   "source": [
    "## Parametros Default\n",
    "Utilizamos este tipo de parâmetro quando podemos utilizar um valor padrão nos subalgoritmos.\n",
    "<br>\n",
    "**Sintaxe:**\n",
    "```\n",
    "def nome_subalgoritmo(parametro = valor) -> tipo_retorno:\n",
    "    corpo_do_subalgoritmo\n",
    "    return valor_retornado\n",
    "```\n",
    "<br>\n",
    "**Exemplo:** Este subalogritmo exibe uma saudação para uma pessoa"
   ]
  },
  {
   "cell_type": "code",
   "execution_count": 7,
   "metadata": {},
   "outputs": [
    {
     "name": "stdout",
     "output_type": "stream",
     "text": [
      "Boa tarde Edson!\n",
      "Bom dia Usuario!\n",
      "Bom dia Maria!\n"
     ]
    }
   ],
   "source": [
    "def saudacao(msg: str = \"Bom dia\", nome: str = \"Usuario\") -> None:\n",
    "    print(f\"{msg} {nome}!\")\n",
    "\n",
    "saudacao(\"Boa tarde\", \"Edson\")\n",
    "saudacao()\n",
    "saudacao(nome = \"Maria\")"
   ]
  },
  {
   "cell_type": "markdown",
   "metadata": {},
   "source": [
    "**Exercício**\n",
    "<ol>\n",
    "    <li>\n",
    "    Considere que um procedimento passe como parâmetro o nome de um paciente e o horário de atendimento. Por padrão, o nome é 'Paciente' e o horário padrão é 8h.\n",
    "    onstrua um procedimento que atenda a esta necessidade.\n",
    "    </li>\n",
    "    <li>\n",
    "    Uma função verifica qual o maior entre 3 numeros passados por parâmetro. Considere o padrão: 1, 2 e 3 e verifique o maior valor.\n",
    "    </li>\n",
    "</ol>"
   ]
  },
  {
   "cell_type": "markdown",
   "metadata": {},
   "source": [
    "**Exercício 1**"
   ]
  },
  {
   "cell_type": "code",
   "execution_count": 9,
   "metadata": {},
   "outputs": [
    {
     "name": "stdout",
     "output_type": "stream",
     "text": [
      "Nome:Breno\n",
      "Horário: 9h\n",
      "Nome:Breno\n",
      "Horário: 8h\n",
      "Nome:Paciente\n",
      "Horário: 8h\n",
      "Nome:Paciente\n",
      "Horário: 10h\n"
     ]
    }
   ],
   "source": [
    "def exercicio1(nome: str = \"Paciente\", horario: str = \"8h\") -> None:\n",
    "    print(f\"Nome:{nome}\\nHorário: {horario}\")\n",
    "\n",
    "exercicio(\"Breno\", \"9h\")\n",
    "exercicio(\"Breno\")\n",
    "exercicio()\n",
    "exercicio(horario = \"10h\")"
   ]
  },
  {
   "cell_type": "markdown",
   "metadata": {},
   "source": [
    "**Exercício 2**"
   ]
  },
  {
   "cell_type": "code",
   "execution_count": null,
   "metadata": {},
   "outputs": [],
   "source": [
    "def exercicio2(n1: int,)"
   ]
  },
  {
   "cell_type": "code",
   "execution_count": null,
   "metadata": {},
   "outputs": [],
   "source": [
    "def soma_numeros(*args) -> float:\n",
    "    soma = 0\n",
    "    for valor in args:\n",
    "        soma = soma + valor\n",
    "    return soma\n",
    "\n",
    "print(soma_numeros(5,7))\n",
    "print(soma_numeros(5,7,3))\n",
    "print(soma_numeros(5,7,2,5))\n",
    "print(soma_numeros(5,7,7,5,3))"
   ]
  },
  {
   "cell_type": "code",
   "execution_count": null,
   "metadata": {},
   "outputs": [],
   "source": [
    "def soma_notas(n1: int, n2: int, n3: int)"
   ]
  },
  {
   "cell_type": "markdown",
   "metadata": {},
   "source": [
    "## Exercício"
   ]
  },
  {
   "cell_type": "code",
   "execution_count": 7,
   "metadata": {},
   "outputs": [
    {
     "name": "stdout",
     "output_type": "stream",
     "text": [
      "Lista 1: ['dsad', 21, 'dsdas', 44, '44.2', 4]\n",
      "Lista 2: [21, 44, 4]\n"
     ]
    }
   ],
   "source": [
    "lista1 = [\"dsad\", 21, \"dsdas\", 44, \"44.2\", 4]\n",
    "lista2 = []\n",
    "\n",
    "def copia_int(l1: list, l2: list):\n",
    "    for element in l1:\n",
    "        if isinstance(element, int):\n",
    "            l2.append(element)\n",
    "\n",
    "copia_int(lista1, lista2)\n",
    "print(f\"Lista 1: {lista1}\")\n",
    "print(f\"Lista 2: {lista2}\")"
   ]
  }
 ],
 "metadata": {
  "kernelspec": {
   "display_name": "Python 3",
   "language": "python",
   "name": "python3"
  },
  "language_info": {
   "codemirror_mode": {
    "name": "ipython",
    "version": 3
   },
   "file_extension": ".py",
   "mimetype": "text/x-python",
   "name": "python",
   "nbconvert_exporter": "python",
   "pygments_lexer": "ipython3",
   "version": "3.10.8"
  },
  "orig_nbformat": 4
 },
 "nbformat": 4,
 "nbformat_minor": 2
}
