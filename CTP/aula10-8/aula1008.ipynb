{
 "cells": [
  {
   "cell_type": "markdown",
   "metadata": {},
   "source": [
    "Fatiar um objeto é selecionar parte dele.\n",
    "**Sintaxe**\n",
    "\n",
    "```\n",
    "objeto[inicio:fim:passo]\n",
    "```\n",
    "\n",
    "Onde **inicio** é a primeira opção, **fim** a última e **passo** o incremento. <i>[**fim** não o inclui]</i>"
   ]
  },
  {
   "cell_type": "markdown",
   "metadata": {},
   "source": [
    "# Tupla\n",
    "\n",
    "É um tipo de dados semelhante a lista com a diferença de não ser iterável (modificado).\n",
    "A delimitação dos elementos é entre parênteses."
   ]
  },
  {
   "cell_type": "code",
   "execution_count": 1,
   "metadata": {},
   "outputs": [
    {
     "name": "stdout",
     "output_type": "stream",
     "text": [
      "Lista = [1, 2, 3, 4, 5]\n",
      "Tupla = [1, 2, 3, 4, 5]\n",
      "Lista, elemento 2 = 3\n",
      "Tupla, elemento 0 = 1\n"
     ]
    }
   ],
   "source": [
    "lista = [1, 2, 3, 4, 5]\n",
    "tupla = [1, 2, 3, 4, 5]\n",
    "print(f\"Lista = {lista}\")\n",
    "print(f\"Tupla = {tupla}\")\n",
    "print(f\"Lista, elemento 2 = {lista[2]}\")\n",
    "print(f\"Tupla, elemento 0 = {lista[0]}\")"
   ]
  },
  {
   "cell_type": "code",
   "execution_count": 3,
   "metadata": {},
   "outputs": [
    {
     "name": "stdout",
     "output_type": "stream",
     "text": [
      "[10, 20, 30, 40, 50, 60, 70, 80, 90, 100]\n",
      "[40, 50, 60, 70, 80]\n",
      "[60, 70, 80, 90]\n",
      "Primeiro: 10 | Último: 100\n"
     ]
    }
   ],
   "source": [
    "numeros = [10, 20, 30, 40, 50, 60, 70, 80, 90, 100]\n",
    "print(numeros)\n",
    "print(numeros[3:8])\n",
    "numeros_new = numeros[5:9]\n",
    "print(numeros_new)\n",
    "print(f\"Primeiro: {numeros[0]} | Último: {numeros[-1]}\")"
   ]
  },
  {
   "cell_type": "markdown",
   "metadata": {},
   "source": [
    "### Fatiando Strings\n",
    "Antes de mais nada, string nada mais pe do que uma lista de caracteres.<br>\n",
    "Cada caractere da string corresponde a um lemento da lista string"
   ]
  },
  {
   "cell_type": "code",
   "execution_count": null,
   "metadata": {},
   "outputs": [],
   "source": [
    "frase = \"Agora veremos como o fatiamento funciona com strings\"\n",
    "print(\"1. \" + frase)\n",
    "print(f\"2. Primeiro caractere '{frase[0]}' e último caractere '{frase[-1]}'\")\n"
   ]
  },
  {
   "cell_type": "code",
   "execution_count": 8,
   "metadata": {},
   "outputs": [
    {
     "name": "stdout",
     "output_type": "stream",
     "text": [
      "A frase 'O rato roeu a roupa do rei de roma' tem 4 letras 'A'\n"
     ]
    }
   ],
   "source": [
    "frase = \"O rato roeu a roupa do rei de roma\"\n",
    "def verifica(texto) -> int:\n",
    "    qtd = 0\n",
    "    for elem in texto:\n",
    "        if elem == 'a' or elem == 'A':\n",
    "            qtd += 1\n",
    "    return qtd\n",
    "verifica(frase)\n",
    "print(f\"A frase '{frase}' tem {verifica(frase)} letras 'A'\")"
   ]
  }
 ],
 "metadata": {
  "kernelspec": {
   "display_name": "Python 3",
   "language": "python",
   "name": "python3"
  },
  "language_info": {
   "codemirror_mode": {
    "name": "ipython",
    "version": 3
   },
   "file_extension": ".py",
   "mimetype": "text/x-python",
   "name": "python",
   "nbconvert_exporter": "python",
   "pygments_lexer": "ipython3",
   "version": "3.10.8"
  },
  "orig_nbformat": 4
 },
 "nbformat": 4,
 "nbformat_minor": 2
}
