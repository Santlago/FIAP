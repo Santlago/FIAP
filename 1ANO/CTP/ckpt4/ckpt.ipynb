{
 "cells": [
  {
   "attachments": {},
   "cell_type": "markdown",
   "metadata": {},
   "source": [
    "### 1 – Digite um nome Completo"
   ]
  },
  {
   "cell_type": "code",
   "execution_count": 1,
   "metadata": {},
   "outputs": [],
   "source": [
    "# def digitaNome() -> None:\n",
    "#     nome = input(\"Digite um nome completo\")\n",
    "# nome()"
   ]
  },
  {
   "attachments": {},
   "cell_type": "markdown",
   "metadata": {},
   "source": [
    "### 2 – Exibe separado o Nome do Sobrenome"
   ]
  },
  {
   "cell_type": "code",
   "execution_count": 52,
   "metadata": {},
   "outputs": [
    {
     "name": "stdout",
     "output_type": "stream",
     "text": [
      "Nome: Breno\n",
      "Sobrenome: Lemes Santiago\n"
     ]
    }
   ],
   "source": [
    "def exibeSep(n: str) -> None:\n",
    "    if n != '':\n",
    "        nSep = n.split()\n",
    "        lName = (' '.join(nSep[1:len(nSep)]))\n",
    "        print(f'Nome: {nSep[0]}')\n",
    "        print(f'Sobrenome: {lName}')\n",
    "    else:\n",
    "        print('Nome está vazio')\n",
    "\n",
    "exibeSep('Breno Lemes Santiago')"
   ]
  },
  {
   "attachments": {},
   "cell_type": "markdown",
   "metadata": {},
   "source": [
    "### 3 – Conta quantas palavras há no nome"
   ]
  },
  {
   "cell_type": "code",
   "execution_count": 10,
   "metadata": {},
   "outputs": [
    {
     "name": "stdout",
     "output_type": "stream",
     "text": [
      "O nome Breno Lemes Santiago tem 3 palavras\n"
     ]
    }
   ],
   "source": [
    "def contaPalavras(n: str) -> None:\n",
    "    f = n.split()\n",
    "    qtd = 0\n",
    "    for elem in f:\n",
    "        qtd += 1\n",
    "    print(f\"O nome {n} tem {qtd} palavras\")\n",
    "\n",
    "contaPalavras(\"Breno Lemes Santiago\")"
   ]
  },
  {
   "attachments": {},
   "cell_type": "markdown",
   "metadata": {},
   "source": [
    "### 4 – Exibir em formato de bibliografia"
   ]
  },
  {
   "cell_type": "code",
   "execution_count": 53,
   "metadata": {},
   "outputs": [
    {
     "name": "stdout",
     "output_type": "stream",
     "text": [
      "SANTIAGO, Breno Lemes\n"
     ]
    }
   ],
   "source": [
    "def nomeBib(n: str) -> None:\n",
    "    f = n.split()\n",
    "    nome = f[-1]\n",
    "    novo_nome = ''\n",
    "    for elem in nome:\n",
    "        novo_nome += elem.upper()\n",
    "    restoNome = ' '.join(f[0:-1])\n",
    "    print(f\"{novo_nome}, {restoNome}\")\n",
    "\n",
    "nomeBib('Breno Lemes Santiago')"
   ]
  },
  {
   "attachments": {},
   "cell_type": "markdown",
   "metadata": {},
   "source": [
    "# Menu Principal"
   ]
  },
  {
   "cell_type": "code",
   "execution_count": 54,
   "metadata": {},
   "outputs": [
    {
     "name": "stdout",
     "output_type": "stream",
     "text": [
      "\n",
      "        MENU\n",
      "        \n",
      "        0 - SAIR\n",
      "        1 - Digite um nome completo\n",
      "        2 - Exibe separado o nomne do sobrenome\n",
      "        3 - Conta quantas palavras há no nome completo\n",
      "        4 - Exibir em formao de bibliografia\n",
      "    \n",
      "\n",
      "        MENU\n",
      "        \n",
      "        0 - SAIR\n",
      "        1 - Digite um nome completo\n",
      "        2 - Exibe separado o nomne do sobrenome\n",
      "        3 - Conta quantas palavras há no nome completo\n",
      "        4 - Exibir em formao de bibliografia\n",
      "    \n",
      "Nome: Breno\n",
      "Sobrenome: Lemes Santiago da Silva\n",
      "\n",
      "        MENU\n",
      "        \n",
      "        0 - SAIR\n",
      "        1 - Digite um nome completo\n",
      "        2 - Exibe separado o nomne do sobrenome\n",
      "        3 - Conta quantas palavras há no nome completo\n",
      "        4 - Exibir em formao de bibliografia\n",
      "    \n",
      "O nome Breno Lemes Santiago da Silva tem 5 palavras\n",
      "\n",
      "        MENU\n",
      "        \n",
      "        0 - SAIR\n",
      "        1 - Digite um nome completo\n",
      "        2 - Exibe separado o nomne do sobrenome\n",
      "        3 - Conta quantas palavras há no nome completo\n",
      "        4 - Exibir em formao de bibliografia\n",
      "    \n",
      "SILVA, Breno Lemes Santiago da\n",
      "\n",
      "        MENU\n",
      "        \n",
      "        0 - SAIR\n",
      "        1 - Digite um nome completo\n",
      "        2 - Exibe separado o nomne do sobrenome\n",
      "        3 - Conta quantas palavras há no nome completo\n",
      "        4 - Exibir em formao de bibliografia\n",
      "    \n"
     ]
    }
   ],
   "source": [
    "while True:\n",
    "    print(\"\"\"\n",
    "        MENU\n",
    "        \n",
    "        0 - SAIR\n",
    "        1 - Digite um nome completo\n",
    "        2 - Exibe separado o nomne do sobrenome\n",
    "        3 - Conta quantas palavras há no nome completo\n",
    "        4 - Exibir em formao de bibliografia\n",
    "    \"\"\")\n",
    "    opcao = input(\"Escolha: \")\n",
    "    match opcao:\n",
    "        case '1':\n",
    "            nome = input(\"Digite um nome completo\")\n",
    "            # digitaNome()\n",
    "        case '2':\n",
    "            exibeSep(nome)\n",
    "        case '3':\n",
    "            contaPalavras(nome)\n",
    "        case '4':\n",
    "            nomeBib(nome)\n",
    "        case '0':\n",
    "            break\n",
    "        case _:\n",
    "            print(\"Opção inválida\")"
   ]
  }
 ],
 "metadata": {
  "kernelspec": {
   "display_name": "Python 3",
   "language": "python",
   "name": "python3"
  },
  "language_info": {
   "codemirror_mode": {
    "name": "ipython",
    "version": 3
   },
   "file_extension": ".py",
   "mimetype": "text/x-python",
   "name": "python",
   "nbconvert_exporter": "python",
   "pygments_lexer": "ipython3",
   "version": "3.11.4"
  },
  "orig_nbformat": 4
 },
 "nbformat": 4,
 "nbformat_minor": 2
}
