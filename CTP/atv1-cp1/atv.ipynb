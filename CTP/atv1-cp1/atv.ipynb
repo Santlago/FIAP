{
 "cells": [
  {
   "cell_type": "markdown",
   "metadata": {},
   "source": [
    "### Função 1"
   ]
  },
  {
   "cell_type": "code",
   "execution_count": 31,
   "metadata": {},
   "outputs": [],
   "source": [
    "def converte_vogais_maiusculo(frase: str) -> str:\n",
    "    vogais = 'aeiou'\n",
    "    nova_frase = ''\n",
    "    for elem in frase:\n",
    "        if elem in vogais:\n",
    "            nova_frase += elem.upper()\n",
    "        else: \n",
    "            nova_frase += elem\n",
    "    return nova_frase"
   ]
  },
  {
   "cell_type": "markdown",
   "metadata": {},
   "source": [
    "### Função 2"
   ]
  },
  {
   "cell_type": "code",
   "execution_count": 32,
   "metadata": {},
   "outputs": [],
   "source": [
    "def isFloat(valor) -> bool:\n",
    "    period_count = 0\n",
    "    for char in valor:\n",
    "        if char == '.':\n",
    "            period_count += 1\n",
    "            if period_count > 1:\n",
    "                return False\n",
    "        elif not char.isdigit():\n",
    "            return False\n",
    "    return True"
   ]
  },
  {
   "cell_type": "markdown",
   "metadata": {},
   "source": [
    "### Programa principal"
   ]
  },
  {
   "cell_type": "code",
   "execution_count": 34,
   "metadata": {},
   "outputs": [
    {
     "name": "stdout",
     "output_type": "stream",
     "text": [
      "\n",
      "        0 - SAIR\n",
      "        1 - Converte vogais\n",
      "        2 - Verifica se é float\n",
      "    \n",
      "Este valor não é float\n",
      "\n",
      "        0 - SAIR\n",
      "        1 - Converte vogais\n",
      "        2 - Verifica se é float\n",
      "    \n"
     ]
    }
   ],
   "source": [
    "\n",
    "while True:\n",
    "    print('''\n",
    "        0 - SAIR\n",
    "        1 - Converte vogais\n",
    "        2 - Verifica se é float\n",
    "    ''')\n",
    "    option = input(\"Opção: \")\n",
    "    match option:\n",
    "        case \"0\":\n",
    "            break\n",
    "        case \"1\":\n",
    "            text = input(\"Digite um texto: \")\n",
    "            print(converte_vogais_maiusculo(text))\n",
    "        case \"2\":\n",
    "            value = input(\"Digite um valor: \")\n",
    "            if isFloat(value):\n",
    "                print(\"Este valor é float\")\n",
    "            else:\n",
    "                print(\"Este valor não é float\")\n",
    "        case _:\n",
    "            print(\"Opção inválida\")\n"
   ]
  }
 ],
 "metadata": {
  "kernelspec": {
   "display_name": "Python 3",
   "language": "python",
   "name": "python3"
  },
  "language_info": {
   "codemirror_mode": {
    "name": "ipython",
    "version": 3
   },
   "file_extension": ".py",
   "mimetype": "text/x-python",
   "name": "python",
   "nbconvert_exporter": "python",
   "pygments_lexer": "ipython3",
   "version": "3.10.8"
  },
  "orig_nbformat": 4
 },
 "nbformat": 4,
 "nbformat_minor": 2
}
