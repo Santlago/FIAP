{
  "nbformat": 4,
  "nbformat_minor": 0,
  "metadata": {
    "colab": {
      "provenance": []
    },
    "kernelspec": {
      "name": "python3",
      "display_name": "Python 3"
    },
    "language_info": {
      "name": "python"
    }
  },
  "cells": [
    {
      "cell_type": "markdown",
      "source": [
        "Importação das bibliotecas"
      ],
      "metadata": {
        "id": "8mefUfPB6Hp6"
      }
    },
    {
      "cell_type": "code",
      "execution_count": null,
      "metadata": {
        "id": "7Og2mGx6xVZS"
      },
      "outputs": [],
      "source": [
        "# Importar as bibliotecas necessárias\n",
        "import pandas as pd\n",
        "\n",
        "# Conversão de dados categóricos em numéricos\n",
        "from sklearn.preprocessing import LabelEncoder\n",
        "\n",
        "# Algoritmos de classificação\n",
        "# KNN (K-Nearest Neighbors)\n",
        "from sklearn.neighbors import KNeighborsClassifier\n",
        "# Decision Tree\n",
        "from sklearn.tree import DecisionTreeClassifier\n",
        "\n",
        "# Seleção de dados de treino e teste\n",
        "from sklearn.model_selection import train_test_split\n",
        "\n",
        "# Obtenção da acurácia do modelo\n",
        "from sklearn.metrics import accuracy_score"
      ]
    },
    {
      "cell_type": "markdown",
      "source": [
        "Importação dos dados"
      ],
      "metadata": {
        "id": "lTIB4NnP6NUm"
      }
    },
    {
      "cell_type": "code",
      "source": [
        "# Criar um Data Frame a partir do arquivo de dados\n"
      ],
      "metadata": {
        "id": "1YKd1Lo15OrZ"
      },
      "execution_count": null,
      "outputs": []
    },
    {
      "cell_type": "markdown",
      "source": [
        "Análise Exploratória"
      ],
      "metadata": {
        "id": "Tgz6nAh86P5_"
      }
    },
    {
      "cell_type": "code",
      "source": [
        "# Visualizar as primeiras linhas\n"
      ],
      "metadata": {
        "id": "B4hs8Uh75X64"
      },
      "execution_count": null,
      "outputs": []
    },
    {
      "cell_type": "code",
      "source": [
        "# Visualizar as últimas linhas\n"
      ],
      "metadata": {
        "id": "A1Nnx7yJ5zGi"
      },
      "execution_count": null,
      "outputs": []
    },
    {
      "cell_type": "code",
      "source": [
        "# Quantas linhas e colunas tem o Data Frame?\n"
      ],
      "metadata": {
        "id": "-kp484uM5zCW"
      },
      "execution_count": null,
      "outputs": []
    },
    {
      "cell_type": "code",
      "source": [
        "# Estatísticas descritivas\n"
      ],
      "metadata": {
        "id": "hEz5YzNl5y_k"
      },
      "execution_count": null,
      "outputs": []
    },
    {
      "cell_type": "code",
      "source": [
        "# Nomes das colunas\n"
      ],
      "metadata": {
        "id": "Qv6IuVdG62Va"
      },
      "execution_count": null,
      "outputs": []
    },
    {
      "cell_type": "code",
      "source": [
        "# Informações do formato de dados das colunas\n"
      ],
      "metadata": {
        "id": "Ikf5E-2Z5y7K"
      },
      "execution_count": null,
      "outputs": []
    },
    {
      "cell_type": "code",
      "source": [
        "# Seleção dos dados de uma coluna (formato Series)\n"
      ],
      "metadata": {
        "id": "BzGqUPYG5yoV"
      },
      "execution_count": null,
      "outputs": []
    },
    {
      "cell_type": "code",
      "source": [
        "# Seleção dos dados de uma coluna (formato Data Frame)\n"
      ],
      "metadata": {
        "id": "0cANLnTu7AJ8"
      },
      "execution_count": null,
      "outputs": []
    },
    {
      "cell_type": "code",
      "source": [
        "# Exclusão de uma coluna\n"
      ],
      "metadata": {
        "id": "tgJ5XhxC7DRu"
      },
      "execution_count": null,
      "outputs": []
    },
    {
      "cell_type": "code",
      "source": [
        "# Cálculo de média aritmética dos valores de uma coluna\n"
      ],
      "metadata": {
        "id": "UaUqKDNN7JLa"
      },
      "execution_count": null,
      "outputs": []
    },
    {
      "cell_type": "code",
      "source": [
        "# Cálculo de mediana dos valores de uma coluna\n"
      ],
      "metadata": {
        "id": "PIohVCov7QOQ"
      },
      "execution_count": null,
      "outputs": []
    },
    {
      "cell_type": "code",
      "source": [
        "# Cálculo do desvio padrão dos valores de uma coluna\n"
      ],
      "metadata": {
        "id": "bwc2Ksep7QCP"
      },
      "execution_count": null,
      "outputs": []
    },
    {
      "cell_type": "code",
      "source": [
        "# Informações gerais das colunas\n"
      ],
      "metadata": {
        "id": "5WCq-8CBCsMS"
      },
      "execution_count": null,
      "outputs": []
    },
    {
      "cell_type": "code",
      "source": [
        "# Dados de uma coluna no formato Numpy Array (Vetor)\n"
      ],
      "metadata": {
        "id": "57LirAKuDJWK"
      },
      "execution_count": null,
      "outputs": []
    },
    {
      "cell_type": "markdown",
      "source": [
        "Pré Processamento"
      ],
      "metadata": {
        "id": "n5Dw0O9H8vTN"
      }
    },
    {
      "cell_type": "code",
      "source": [
        "# Conversão de uma coluna de dados categóricos para dados numéricos\n"
      ],
      "metadata": {
        "id": "uwsa_ZCT8dlw"
      },
      "execution_count": null,
      "outputs": []
    },
    {
      "cell_type": "code",
      "source": [
        "# Separação dos dados de entrada e dados de saída usando método .iloc\n"
      ],
      "metadata": {
        "id": "qTh22gSS81fJ"
      },
      "execution_count": null,
      "outputs": []
    },
    {
      "cell_type": "code",
      "source": [
        "# Separação em dados de treino e dados de teste\n"
      ],
      "metadata": {
        "id": "p9ClPm9F9Agt"
      },
      "execution_count": null,
      "outputs": []
    },
    {
      "cell_type": "code",
      "source": [
        "# Tamanho do conjunto de treino\n"
      ],
      "metadata": {
        "id": "MJ0Wg7hqU_yK"
      },
      "execution_count": null,
      "outputs": []
    },
    {
      "cell_type": "code",
      "source": [
        "# Tamanho do conjunto de teste\n"
      ],
      "metadata": {
        "id": "MA13NR9JVEm6"
      },
      "execution_count": null,
      "outputs": []
    },
    {
      "cell_type": "markdown",
      "source": [
        "Escolha do algoritmo"
      ],
      "metadata": {
        "id": "6GzQpFR1Tagq"
      }
    },
    {
      "cell_type": "code",
      "source": [
        "# Instanciar o modelo\n"
      ],
      "metadata": {
        "id": "Px1vjwhjTeKQ"
      },
      "execution_count": null,
      "outputs": []
    },
    {
      "cell_type": "code",
      "source": [
        "# Treinar o modelo\n"
      ],
      "metadata": {
        "id": "1OjqBJMoU87s"
      },
      "execution_count": null,
      "outputs": []
    },
    {
      "cell_type": "markdown",
      "source": [
        "Avaliar o modelo com base na acurácia"
      ],
      "metadata": {
        "id": "GU4hYR16VLz4"
      }
    },
    {
      "cell_type": "code",
      "source": [
        "#"
      ],
      "metadata": {
        "id": "aDX2islKU8pP"
      },
      "execution_count": null,
      "outputs": []
    },
    {
      "cell_type": "markdown",
      "source": [
        "EXERCÍCIO: Treine um outro modelo usando o algoritmo Decision Tree e compare as métricas"
      ],
      "metadata": {
        "id": "0KdUecDvVVe1"
      }
    }
  ]
}