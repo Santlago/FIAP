{
 "cells": [
  {
   "cell_type": "markdown",
   "metadata": {},
   "source": [
    "## Atividade 2\n",
    "\n",
    "**EXERCÍCIOS:**\n",
    "\n",
    "· Cria um dicionário com ao menos 4 registros.\n",
    "\n",
    "· Crie um subalgoritmo que permita ao usuário preencher este registro\n",
    "\n",
    "· Crie um subalgoritmo que exiba o conteúdo do registro\n",
    "\n",
    "· Crie um subalgoritmo que passe por parâmetro a Key e o seu novo conteúdo e edite o conteúdo anterior.\n",
    "\n",
    "Para executar estes subalgoritmos, faça um menu interarivo com o usuário."
   ]
  },
  {
   "cell_type": "markdown",
   "metadata": {},
   "source": [
    "### Exercício 1"
   ]
  },
  {
   "cell_type": "code",
   "execution_count": 18,
   "metadata": {},
   "outputs": [
    {
     "name": "stdout",
     "output_type": "stream",
     "text": [
      "{'marca': 'Nissan', 'modelo': 'Versa', 'ano': 2020, 'preco': 70000}\n"
     ]
    }
   ],
   "source": [
    "dados = {\n",
    "    'marca' : 'Nissan',\n",
    "    'modelo' : 'Versa',\n",
    "    'ano' : 2020,\n",
    "    'preco' : 70000\n",
    "}\n",
    "\n",
    "print(dados)"
   ]
  },
  {
   "cell_type": "markdown",
   "metadata": {},
   "source": [
    "### Exercício 2"
   ]
  },
  {
   "cell_type": "code",
   "execution_count": 21,
   "metadata": {},
   "outputs": [
    {
     "name": "stdout",
     "output_type": "stream",
     "text": [
      "Original:  {'marca': 'Nissan', 'modelo': 'Versa', 'ano': 2020, 'preco': 70000}\n",
      "Novo:  {'marca': 'Fiat', 'modelo': 'Cronos', 'ano': '2021', 'preco': '70000'}\n"
     ]
    }
   ],
   "source": [
    "print(\"Original: \", dados)\n",
    "\n",
    "def adicionar():\n",
    "    dados['marca'] = input('Marca: ')\n",
    "    dados['modelo'] = input('Modelo: ')\n",
    "    dados['ano'] = input('Ano: ')\n",
    "    dados['preco'] = input('Preço: ')\n",
    "    \n",
    "adicionar()\n",
    "print(\"Novo: \", dados)"
   ]
  },
  {
   "cell_type": "markdown",
   "metadata": {},
   "source": [
    "### Exercício 3"
   ]
  },
  {
   "cell_type": "code",
   "execution_count": 34,
   "metadata": {},
   "outputs": [
    {
     "name": "stdout",
     "output_type": "stream",
     "text": [
      "\n",
      "Marca.......: Honda\n",
      "Modelo......: CR-V\n",
      "Ano.........: 2000\n",
      "Preço.......: 30000\n"
     ]
    }
   ],
   "source": [
    "def mostrar():\n",
    "    print(f\"\\nMarca.......: {dados['marca']}\")\n",
    "    print(f\"Modelo......: {dados['modelo']}\")\n",
    "    print(f\"Ano.........: {dados['ano']}\")\n",
    "    print(f\"Preço.......: {dados['preco']}\\n\")\n",
    "\n",
    "mostrar()"
   ]
  },
  {
   "cell_type": "markdown",
   "metadata": {},
   "source": [
    "### Exercício 4"
   ]
  },
  {
   "cell_type": "code",
   "execution_count": 27,
   "metadata": {},
   "outputs": [
    {
     "name": "stdout",
     "output_type": "stream",
     "text": [
      "Marca.......: Chevrolet\n",
      "Modelo......: Civic\n",
      "Ano.........: 2000\n",
      "Preço.......: 40000\n"
     ]
    }
   ],
   "source": [
    "def alterar(key: str, value: str) -> None:\n",
    "    dados[key] = value\n",
    "\n",
    "alterar('marca', 'Chevrolet')\n",
    "mostrar()"
   ]
  },
  {
   "cell_type": "markdown",
   "metadata": {},
   "source": [
    "# Principal"
   ]
  },
  {
   "cell_type": "code",
   "execution_count": 35,
   "metadata": {},
   "outputs": [
    {
     "name": "stdout",
     "output_type": "stream",
     "text": [
      "\n",
      "    1 - Adicionar\n",
      "    2 - Alterar\n",
      "    3 - Verificar\n",
      "    0 - Sair\n",
      " \n",
      "\n",
      "Marca.......: Honda\n",
      "Modelo......: Civic\n",
      "Ano.........: 2010\n",
      "Preço.......: 30000\n",
      "\n",
      "Marca.......: Honda\n",
      "Modelo......: CR-V\n",
      "Ano.........: 2010\n",
      "Preço.......: 30000\n"
     ]
    }
   ],
   "source": [
    "print(\"\"\"\n",
    "    1 - Adicionar\n",
    "    2 - Alterar\n",
    "    3 - Verificar\n",
    "    0 - Sair\n",
    " \"\"\")\n",
    "\n",
    "while True:\n",
    "    opcao = input('Digite uma opção: ')\n",
    "    match opcao:\n",
    "        case '1':\n",
    "            adicionar()\n",
    "        case '2':\n",
    "            key = input(\"Digita uma chave: \")\n",
    "            value = input(\"Digita um valor: \")\n",
    "            alterar(key, value)\n",
    "        case '3':\n",
    "            mostrar()\n",
    "        case '0':\n",
    "            break\n",
    "        case _:\n",
    "            print('Opção inválida')"
   ]
  }
 ],
 "metadata": {
  "kernelspec": {
   "display_name": "Python 3",
   "language": "python",
   "name": "python3"
  },
  "language_info": {
   "codemirror_mode": {
    "name": "ipython",
    "version": 3
   },
   "file_extension": ".py",
   "mimetype": "text/x-python",
   "name": "python",
   "nbconvert_exporter": "python",
   "pygments_lexer": "ipython3",
   "version": "3.10.8"
  },
  "orig_nbformat": 4
 },
 "nbformat": 4,
 "nbformat_minor": 2
}
