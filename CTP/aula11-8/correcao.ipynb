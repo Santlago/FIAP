{
 "cells": [
  {
   "cell_type": "markdown",
   "metadata": {},
   "source": [
    "### Procedimento que preenche uma lista"
   ]
  },
  {
   "cell_type": "code",
   "execution_count": 2,
   "metadata": {},
   "outputs": [],
   "source": [
    "def preenche_lista(l: list) -> None:\n",
    "    while True:\n",
    "        elem = input(\"Digite um elemento: \")\n",
    "        if elem != '.':\n",
    "            l.append(elem)\n",
    "        else:\n",
    "            break"
   ]
  },
  {
   "cell_type": "markdown",
   "metadata": {},
   "source": [
    "#### Exercício 1\n",
    "\n",
    "1. Faça um subalgoritmo que passe uma frase por parâmetro e analise: se ela tiver ponto a retorna, se não, acrescenta ponto no final e a retorna."
   ]
  },
  {
   "cell_type": "code",
   "execution_count": 1,
   "metadata": {},
   "outputs": [
    {
     "name": "stdout",
     "output_type": "stream",
     "text": [
      "Sexta-feira.\n"
     ]
    }
   ],
   "source": [
    "def coloca_ponto_frase(f: str) -> str:\n",
    "    tem_ponto = f[-1] == '.'\n",
    "    if tem_ponto:\n",
    "        return f\n",
    "    else:\n",
    "        return f + \".\"\n",
    "    \n",
    "x = \"Sexta-feira\"\n",
    "\n",
    "print(coloca_ponto_frase(x))"
   ]
  },
  {
   "cell_type": "markdown",
   "metadata": {},
   "source": [
    "#### Exercício 2\n",
    "2. Faça um subalgoritmo que pegue uma frase e exiba cada palavra em uma linha."
   ]
  },
  {
   "cell_type": "code",
   "execution_count": 2,
   "metadata": {},
   "outputs": [
    {
     "name": "stdout",
     "output_type": "stream",
     "text": [
      "Quantidade de palavras:  5\n"
     ]
    }
   ],
   "source": [
    "def transforma_str_lista(f: str) -> None:\n",
    "    l = f.split()\n",
    "    return l\n",
    "\n",
    "frase = \"Tenho que pegar uma frase\"\n",
    "\n",
    "lista_frase = transforma_str_lista(frase)\n",
    "\n",
    "qtd = 0\n",
    "for palavra in lista_frase:\n",
    "    qtd += 1\n",
    "print(\"Quantidade de palavras: \", qtd)"
   ]
  },
  {
   "cell_type": "markdown",
   "metadata": {},
   "source": [
    "### Desafio\n",
    "Dada uma frase, contar quantas palavras acima de 2 letras existem:"
   ]
  },
  {
   "cell_type": "code",
   "execution_count": 3,
   "metadata": {},
   "outputs": [
    {
     "name": "stdout",
     "output_type": "stream",
     "text": [
      "2\n"
     ]
    }
   ],
   "source": [
    "def conta_2letras(f: str) -> None:\n",
    "    l = f.split()\n",
    "    qtd = 0\n",
    "    for elem in l:\n",
    "        if len(elem) >= 2:\n",
    "            qtd += 1\n",
    "    return qtd\n",
    "\n",
    "frase = \"O carro é vermelho\"\n",
    "\n",
    "print(conta_2letras(frase))"
   ]
  },
  {
   "cell_type": "markdown",
   "metadata": {},
   "source": [
    "## Programa Principal"
   ]
  },
  {
   "cell_type": "code",
   "execution_count": null,
   "metadata": {},
   "outputs": [],
   "source": [
    "while True:\n",
    "    print(\"\"\"\n",
    "    1 - Preenche a lista\n",
    "    \"\"\")\n",
    "    opcao = int(input(\"Digite uma opção: \"))\n",
    "    match opcao:\n",
    "        case 1:\n",
    "            preenche_lista(lista)\n",
    "    "
   ]
  }
 ],
 "metadata": {
  "kernelspec": {
   "display_name": "Python 3",
   "language": "python",
   "name": "python3"
  },
  "language_info": {
   "codemirror_mode": {
    "name": "ipython",
    "version": 3
   },
   "file_extension": ".py",
   "mimetype": "text/x-python",
   "name": "python",
   "nbconvert_exporter": "python",
   "pygments_lexer": "ipython3",
   "version": "3.11.5"
  },
  "orig_nbformat": 4
 },
 "nbformat": 4,
 "nbformat_minor": 2
}
