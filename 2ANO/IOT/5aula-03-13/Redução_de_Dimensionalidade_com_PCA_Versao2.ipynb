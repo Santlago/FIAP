{
  "nbformat": 4,
  "nbformat_minor": 0,
  "metadata": {
    "colab": {
      "provenance": []
    },
    "kernelspec": {
      "name": "python3",
      "display_name": "Python 3"
    },
    "language_info": {
      "name": "python"
    }
  },
  "cells": [
    {
      "cell_type": "markdown",
      "metadata": {
        "id": "b0PwlVawUlYk"
      },
      "source": [
        "## APRENDIZADO DE MÁQUINA NÃO SUPERVISIONADO:\n",
        "\n",
        "## Redução de dimensionalidade utilizando o algoritmo PCA (Principal Componentes Analysis)\n",
        "\n",
        "O PCA é um dos principais algoritmos de aprendizagem de máquina não supervisionada.\n",
        "\n",
        "Ele identifica a correlação entre variáveis e, caso haja forte correlação entre elas, decide que é possível reduzir a dimensionalidade dos dados.\n",
        "\n",
        "Supondo um número m de variáveis, o PCA extrai um novo número p <= m que explica a melhor variação na base de dados, excluindo a variável dependente y. Tal número m é escolhido pelo projetista.\n"
      ]
    },
    {
      "cell_type": "markdown",
      "source": [
        "# Parte 1: Importação de bibliotecas"
      ],
      "metadata": {
        "id": "5y3z-B4i6WkO"
      }
    },
    {
      "cell_type": "code",
      "source": [
        "import pandas as pd\n",
        "\n",
        "# Conversão de dados categóricos em numéricos:\n",
        "from sklearn.preprocessing import LabelEncoder\n",
        "# https://scikit-learn.org/stable/modules/generated/sklearn.preprocessing.LabelEncoder.html\n",
        "# Sugestão de leitura: Como fazer LabelEncoder em um DataFrame — Python/SKLearn\n",
        "# https://gianmedeirao.medium.com/como-fazer-labelencoder-em-um-dataframe-python-sklearn-655ba2c6ae7e\n",
        "\n",
        "# Normalização dos dados\n",
        "from sklearn.preprocessing import StandardScaler\n",
        "# https://scikit-learn.org/stable/modules/generated/sklearn.preprocessing.StandardScaler.html\n",
        "# Sugestão de leitura: How to Use StandardScaler and MinMaxScaler Transforms in Python:\n",
        "# https://machinelearningmastery.com/standardscaler-and-minmaxscaler-transforms-in-python/\n",
        "# https://www.hashtagtreinamentos.com/padronizacao-e-normalizacao-em-ciencia-de-dados\n",
        "\n",
        "from sklearn.model_selection import train_test_split\n",
        "# https://scikit-learn.org/stable/modules/generated/sklearn.model_selection.train_test_split.html\n",
        "# Sugestão de leitura:\n",
        "# https://www.geeksforgeeks.org/how-to-do-train-test-split-using-sklearn-in-python/\n",
        "\n",
        "from sklearn.decomposition import PCA\n",
        "# https://scikit-learn.org/stable/modules/generated/sklearn.decomposition.PCA.html\n",
        "\n",
        "# Classificador Random Forest\n",
        "from sklearn.ensemble import RandomForestClassifier\n",
        "# https://scikit-learn.org/stable/modules/generated/sklearn.ensemble.RandomForestClassifier.html\n",
        "\n",
        "# Pacote para cálculo da acurácia do modelo de classificação:\n",
        "from sklearn.metrics import accuracy_score\n",
        "# https://scikit-learn.org/stable/modules/generated/sklearn.metrics.accuracy_score.html"
      ],
      "metadata": {
        "id": "eXftjh2BfSm_"
      },
      "execution_count": 1,
      "outputs": []
    },
    {
      "cell_type": "markdown",
      "metadata": {
        "id": "5B4KH9_YVrmQ"
      },
      "source": [
        "# Parte 2: Preparação dos dados\n",
        "\n",
        "O conjunto de dados modificado \"census.csv\" consiste em aproximadamente 32.000 registros de dados, com cada registro de dados tendo 13 características.\n",
        "\n",
        "https://archive.ics.uci.edu/dataset/20/census+income\n",
        "\n",
        "Este conjunto de dados é uma versão modificada do conjunto de dados publicado no artigo \"*Scaling Up the Accuracy of Naive-Bayes Classifiers: a Decision-Tree Hybrid*\", de Ron Kohavi.\n",
        "\n",
        "Artigo:\n",
        "\n",
        "https://aaai.org/papers/033-scaling-up-the-accuracy-of-naive-bayes-classifiers-a-decision-tree-hybrid/\n"
      ]
    },
    {
      "cell_type": "code",
      "execution_count": 2,
      "metadata": {
        "id": "DsluTWi5V_FP",
        "colab": {
          "base_uri": "https://localhost:8080/",
          "height": 311
        },
        "outputId": "3c5e55ce-350f-4a68-ed99-ffc50c9f81d7"
      },
      "outputs": [
        {
          "output_type": "execute_result",
          "data": {
            "text/plain": [
              "   age          workclass  final-weight   education  education-num  \\\n",
              "0   39          State-gov         77516   Bachelors             13   \n",
              "1   50   Self-emp-not-inc         83311   Bachelors             13   \n",
              "2   38            Private        215646     HS-grad              9   \n",
              "3   53            Private        234721        11th              7   \n",
              "4   28            Private        338409   Bachelors             13   \n",
              "\n",
              "        marital-status          occupation    relationship    race      sex  \\\n",
              "0        Never-married        Adm-clerical   Not-in-family   White     Male   \n",
              "1   Married-civ-spouse     Exec-managerial         Husband   White     Male   \n",
              "2             Divorced   Handlers-cleaners   Not-in-family   White     Male   \n",
              "3   Married-civ-spouse   Handlers-cleaners         Husband   Black     Male   \n",
              "4   Married-civ-spouse      Prof-specialty            Wife   Black   Female   \n",
              "\n",
              "   capital-gain  capital-loos  hour-per-week  native-country  income  \n",
              "0          2174             0             40   United-States   <=50K  \n",
              "1             0             0             13   United-States   <=50K  \n",
              "2             0             0             40   United-States   <=50K  \n",
              "3             0             0             40   United-States   <=50K  \n",
              "4             0             0             40            Cuba   <=50K  "
            ],
            "text/html": [
              "\n",
              "  <div id=\"df-b963a6e5-e8dc-4fea-8ec8-1d9871bd908d\" class=\"colab-df-container\">\n",
              "    <div>\n",
              "<style scoped>\n",
              "    .dataframe tbody tr th:only-of-type {\n",
              "        vertical-align: middle;\n",
              "    }\n",
              "\n",
              "    .dataframe tbody tr th {\n",
              "        vertical-align: top;\n",
              "    }\n",
              "\n",
              "    .dataframe thead th {\n",
              "        text-align: right;\n",
              "    }\n",
              "</style>\n",
              "<table border=\"1\" class=\"dataframe\">\n",
              "  <thead>\n",
              "    <tr style=\"text-align: right;\">\n",
              "      <th></th>\n",
              "      <th>age</th>\n",
              "      <th>workclass</th>\n",
              "      <th>final-weight</th>\n",
              "      <th>education</th>\n",
              "      <th>education-num</th>\n",
              "      <th>marital-status</th>\n",
              "      <th>occupation</th>\n",
              "      <th>relationship</th>\n",
              "      <th>race</th>\n",
              "      <th>sex</th>\n",
              "      <th>capital-gain</th>\n",
              "      <th>capital-loos</th>\n",
              "      <th>hour-per-week</th>\n",
              "      <th>native-country</th>\n",
              "      <th>income</th>\n",
              "    </tr>\n",
              "  </thead>\n",
              "  <tbody>\n",
              "    <tr>\n",
              "      <th>0</th>\n",
              "      <td>39</td>\n",
              "      <td>State-gov</td>\n",
              "      <td>77516</td>\n",
              "      <td>Bachelors</td>\n",
              "      <td>13</td>\n",
              "      <td>Never-married</td>\n",
              "      <td>Adm-clerical</td>\n",
              "      <td>Not-in-family</td>\n",
              "      <td>White</td>\n",
              "      <td>Male</td>\n",
              "      <td>2174</td>\n",
              "      <td>0</td>\n",
              "      <td>40</td>\n",
              "      <td>United-States</td>\n",
              "      <td>&lt;=50K</td>\n",
              "    </tr>\n",
              "    <tr>\n",
              "      <th>1</th>\n",
              "      <td>50</td>\n",
              "      <td>Self-emp-not-inc</td>\n",
              "      <td>83311</td>\n",
              "      <td>Bachelors</td>\n",
              "      <td>13</td>\n",
              "      <td>Married-civ-spouse</td>\n",
              "      <td>Exec-managerial</td>\n",
              "      <td>Husband</td>\n",
              "      <td>White</td>\n",
              "      <td>Male</td>\n",
              "      <td>0</td>\n",
              "      <td>0</td>\n",
              "      <td>13</td>\n",
              "      <td>United-States</td>\n",
              "      <td>&lt;=50K</td>\n",
              "    </tr>\n",
              "    <tr>\n",
              "      <th>2</th>\n",
              "      <td>38</td>\n",
              "      <td>Private</td>\n",
              "      <td>215646</td>\n",
              "      <td>HS-grad</td>\n",
              "      <td>9</td>\n",
              "      <td>Divorced</td>\n",
              "      <td>Handlers-cleaners</td>\n",
              "      <td>Not-in-family</td>\n",
              "      <td>White</td>\n",
              "      <td>Male</td>\n",
              "      <td>0</td>\n",
              "      <td>0</td>\n",
              "      <td>40</td>\n",
              "      <td>United-States</td>\n",
              "      <td>&lt;=50K</td>\n",
              "    </tr>\n",
              "    <tr>\n",
              "      <th>3</th>\n",
              "      <td>53</td>\n",
              "      <td>Private</td>\n",
              "      <td>234721</td>\n",
              "      <td>11th</td>\n",
              "      <td>7</td>\n",
              "      <td>Married-civ-spouse</td>\n",
              "      <td>Handlers-cleaners</td>\n",
              "      <td>Husband</td>\n",
              "      <td>Black</td>\n",
              "      <td>Male</td>\n",
              "      <td>0</td>\n",
              "      <td>0</td>\n",
              "      <td>40</td>\n",
              "      <td>United-States</td>\n",
              "      <td>&lt;=50K</td>\n",
              "    </tr>\n",
              "    <tr>\n",
              "      <th>4</th>\n",
              "      <td>28</td>\n",
              "      <td>Private</td>\n",
              "      <td>338409</td>\n",
              "      <td>Bachelors</td>\n",
              "      <td>13</td>\n",
              "      <td>Married-civ-spouse</td>\n",
              "      <td>Prof-specialty</td>\n",
              "      <td>Wife</td>\n",
              "      <td>Black</td>\n",
              "      <td>Female</td>\n",
              "      <td>0</td>\n",
              "      <td>0</td>\n",
              "      <td>40</td>\n",
              "      <td>Cuba</td>\n",
              "      <td>&lt;=50K</td>\n",
              "    </tr>\n",
              "  </tbody>\n",
              "</table>\n",
              "</div>\n",
              "    <div class=\"colab-df-buttons\">\n",
              "\n",
              "  <div class=\"colab-df-container\">\n",
              "    <button class=\"colab-df-convert\" onclick=\"convertToInteractive('df-b963a6e5-e8dc-4fea-8ec8-1d9871bd908d')\"\n",
              "            title=\"Convert this dataframe to an interactive table.\"\n",
              "            style=\"display:none;\">\n",
              "\n",
              "  <svg xmlns=\"http://www.w3.org/2000/svg\" height=\"24px\" viewBox=\"0 -960 960 960\">\n",
              "    <path d=\"M120-120v-720h720v720H120Zm60-500h600v-160H180v160Zm220 220h160v-160H400v160Zm0 220h160v-160H400v160ZM180-400h160v-160H180v160Zm440 0h160v-160H620v160ZM180-180h160v-160H180v160Zm440 0h160v-160H620v160Z\"/>\n",
              "  </svg>\n",
              "    </button>\n",
              "\n",
              "  <style>\n",
              "    .colab-df-container {\n",
              "      display:flex;\n",
              "      gap: 12px;\n",
              "    }\n",
              "\n",
              "    .colab-df-convert {\n",
              "      background-color: #E8F0FE;\n",
              "      border: none;\n",
              "      border-radius: 50%;\n",
              "      cursor: pointer;\n",
              "      display: none;\n",
              "      fill: #1967D2;\n",
              "      height: 32px;\n",
              "      padding: 0 0 0 0;\n",
              "      width: 32px;\n",
              "    }\n",
              "\n",
              "    .colab-df-convert:hover {\n",
              "      background-color: #E2EBFA;\n",
              "      box-shadow: 0px 1px 2px rgba(60, 64, 67, 0.3), 0px 1px 3px 1px rgba(60, 64, 67, 0.15);\n",
              "      fill: #174EA6;\n",
              "    }\n",
              "\n",
              "    .colab-df-buttons div {\n",
              "      margin-bottom: 4px;\n",
              "    }\n",
              "\n",
              "    [theme=dark] .colab-df-convert {\n",
              "      background-color: #3B4455;\n",
              "      fill: #D2E3FC;\n",
              "    }\n",
              "\n",
              "    [theme=dark] .colab-df-convert:hover {\n",
              "      background-color: #434B5C;\n",
              "      box-shadow: 0px 1px 3px 1px rgba(0, 0, 0, 0.15);\n",
              "      filter: drop-shadow(0px 1px 2px rgba(0, 0, 0, 0.3));\n",
              "      fill: #FFFFFF;\n",
              "    }\n",
              "  </style>\n",
              "\n",
              "    <script>\n",
              "      const buttonEl =\n",
              "        document.querySelector('#df-b963a6e5-e8dc-4fea-8ec8-1d9871bd908d button.colab-df-convert');\n",
              "      buttonEl.style.display =\n",
              "        google.colab.kernel.accessAllowed ? 'block' : 'none';\n",
              "\n",
              "      async function convertToInteractive(key) {\n",
              "        const element = document.querySelector('#df-b963a6e5-e8dc-4fea-8ec8-1d9871bd908d');\n",
              "        const dataTable =\n",
              "          await google.colab.kernel.invokeFunction('convertToInteractive',\n",
              "                                                    [key], {});\n",
              "        if (!dataTable) return;\n",
              "\n",
              "        const docLinkHtml = 'Like what you see? Visit the ' +\n",
              "          '<a target=\"_blank\" href=https://colab.research.google.com/notebooks/data_table.ipynb>data table notebook</a>'\n",
              "          + ' to learn more about interactive tables.';\n",
              "        element.innerHTML = '';\n",
              "        dataTable['output_type'] = 'display_data';\n",
              "        await google.colab.output.renderOutput(dataTable, element);\n",
              "        const docLink = document.createElement('div');\n",
              "        docLink.innerHTML = docLinkHtml;\n",
              "        element.appendChild(docLink);\n",
              "      }\n",
              "    </script>\n",
              "  </div>\n",
              "\n",
              "\n",
              "<div id=\"df-47e196a1-e5bc-491a-9073-3b99dd586e63\">\n",
              "  <button class=\"colab-df-quickchart\" onclick=\"quickchart('df-47e196a1-e5bc-491a-9073-3b99dd586e63')\"\n",
              "            title=\"Suggest charts\"\n",
              "            style=\"display:none;\">\n",
              "\n",
              "<svg xmlns=\"http://www.w3.org/2000/svg\" height=\"24px\"viewBox=\"0 0 24 24\"\n",
              "     width=\"24px\">\n",
              "    <g>\n",
              "        <path d=\"M19 3H5c-1.1 0-2 .9-2 2v14c0 1.1.9 2 2 2h14c1.1 0 2-.9 2-2V5c0-1.1-.9-2-2-2zM9 17H7v-7h2v7zm4 0h-2V7h2v10zm4 0h-2v-4h2v4z\"/>\n",
              "    </g>\n",
              "</svg>\n",
              "  </button>\n",
              "\n",
              "<style>\n",
              "  .colab-df-quickchart {\n",
              "      --bg-color: #E8F0FE;\n",
              "      --fill-color: #1967D2;\n",
              "      --hover-bg-color: #E2EBFA;\n",
              "      --hover-fill-color: #174EA6;\n",
              "      --disabled-fill-color: #AAA;\n",
              "      --disabled-bg-color: #DDD;\n",
              "  }\n",
              "\n",
              "  [theme=dark] .colab-df-quickchart {\n",
              "      --bg-color: #3B4455;\n",
              "      --fill-color: #D2E3FC;\n",
              "      --hover-bg-color: #434B5C;\n",
              "      --hover-fill-color: #FFFFFF;\n",
              "      --disabled-bg-color: #3B4455;\n",
              "      --disabled-fill-color: #666;\n",
              "  }\n",
              "\n",
              "  .colab-df-quickchart {\n",
              "    background-color: var(--bg-color);\n",
              "    border: none;\n",
              "    border-radius: 50%;\n",
              "    cursor: pointer;\n",
              "    display: none;\n",
              "    fill: var(--fill-color);\n",
              "    height: 32px;\n",
              "    padding: 0;\n",
              "    width: 32px;\n",
              "  }\n",
              "\n",
              "  .colab-df-quickchart:hover {\n",
              "    background-color: var(--hover-bg-color);\n",
              "    box-shadow: 0 1px 2px rgba(60, 64, 67, 0.3), 0 1px 3px 1px rgba(60, 64, 67, 0.15);\n",
              "    fill: var(--button-hover-fill-color);\n",
              "  }\n",
              "\n",
              "  .colab-df-quickchart-complete:disabled,\n",
              "  .colab-df-quickchart-complete:disabled:hover {\n",
              "    background-color: var(--disabled-bg-color);\n",
              "    fill: var(--disabled-fill-color);\n",
              "    box-shadow: none;\n",
              "  }\n",
              "\n",
              "  .colab-df-spinner {\n",
              "    border: 2px solid var(--fill-color);\n",
              "    border-color: transparent;\n",
              "    border-bottom-color: var(--fill-color);\n",
              "    animation:\n",
              "      spin 1s steps(1) infinite;\n",
              "  }\n",
              "\n",
              "  @keyframes spin {\n",
              "    0% {\n",
              "      border-color: transparent;\n",
              "      border-bottom-color: var(--fill-color);\n",
              "      border-left-color: var(--fill-color);\n",
              "    }\n",
              "    20% {\n",
              "      border-color: transparent;\n",
              "      border-left-color: var(--fill-color);\n",
              "      border-top-color: var(--fill-color);\n",
              "    }\n",
              "    30% {\n",
              "      border-color: transparent;\n",
              "      border-left-color: var(--fill-color);\n",
              "      border-top-color: var(--fill-color);\n",
              "      border-right-color: var(--fill-color);\n",
              "    }\n",
              "    40% {\n",
              "      border-color: transparent;\n",
              "      border-right-color: var(--fill-color);\n",
              "      border-top-color: var(--fill-color);\n",
              "    }\n",
              "    60% {\n",
              "      border-color: transparent;\n",
              "      border-right-color: var(--fill-color);\n",
              "    }\n",
              "    80% {\n",
              "      border-color: transparent;\n",
              "      border-right-color: var(--fill-color);\n",
              "      border-bottom-color: var(--fill-color);\n",
              "    }\n",
              "    90% {\n",
              "      border-color: transparent;\n",
              "      border-bottom-color: var(--fill-color);\n",
              "    }\n",
              "  }\n",
              "</style>\n",
              "\n",
              "  <script>\n",
              "    async function quickchart(key) {\n",
              "      const quickchartButtonEl =\n",
              "        document.querySelector('#' + key + ' button');\n",
              "      quickchartButtonEl.disabled = true;  // To prevent multiple clicks.\n",
              "      quickchartButtonEl.classList.add('colab-df-spinner');\n",
              "      try {\n",
              "        const charts = await google.colab.kernel.invokeFunction(\n",
              "            'suggestCharts', [key], {});\n",
              "      } catch (error) {\n",
              "        console.error('Error during call to suggestCharts:', error);\n",
              "      }\n",
              "      quickchartButtonEl.classList.remove('colab-df-spinner');\n",
              "      quickchartButtonEl.classList.add('colab-df-quickchart-complete');\n",
              "    }\n",
              "    (() => {\n",
              "      let quickchartButtonEl =\n",
              "        document.querySelector('#df-47e196a1-e5bc-491a-9073-3b99dd586e63 button');\n",
              "      quickchartButtonEl.style.display =\n",
              "        google.colab.kernel.accessAllowed ? 'block' : 'none';\n",
              "    })();\n",
              "  </script>\n",
              "</div>\n",
              "\n",
              "    </div>\n",
              "  </div>\n"
            ],
            "application/vnd.google.colaboratory.intrinsic+json": {
              "type": "dataframe",
              "variable_name": "df",
              "summary": "{\n  \"name\": \"df\",\n  \"rows\": 32561,\n  \"fields\": [\n    {\n      \"column\": \"age\",\n      \"properties\": {\n        \"dtype\": \"number\",\n        \"std\": 13,\n        \"min\": 17,\n        \"max\": 90,\n        \"num_unique_values\": 73,\n        \"samples\": [\n          28,\n          73,\n          35\n        ],\n        \"semantic_type\": \"\",\n        \"description\": \"\"\n      }\n    },\n    {\n      \"column\": \"workclass\",\n      \"properties\": {\n        \"dtype\": \"category\",\n        \"num_unique_values\": 9,\n        \"samples\": [\n          \" Without-pay\",\n          \" Self-emp-not-inc\",\n          \" ?\"\n        ],\n        \"semantic_type\": \"\",\n        \"description\": \"\"\n      }\n    },\n    {\n      \"column\": \"final-weight\",\n      \"properties\": {\n        \"dtype\": \"number\",\n        \"std\": 105549,\n        \"min\": 12285,\n        \"max\": 1484705,\n        \"num_unique_values\": 21648,\n        \"samples\": [\n          128485,\n          469907,\n          235951\n        ],\n        \"semantic_type\": \"\",\n        \"description\": \"\"\n      }\n    },\n    {\n      \"column\": \"education\",\n      \"properties\": {\n        \"dtype\": \"category\",\n        \"num_unique_values\": 16,\n        \"samples\": [\n          \" Bachelors\",\n          \" HS-grad\",\n          \" Some-college\"\n        ],\n        \"semantic_type\": \"\",\n        \"description\": \"\"\n      }\n    },\n    {\n      \"column\": \"education-num\",\n      \"properties\": {\n        \"dtype\": \"number\",\n        \"std\": 2,\n        \"min\": 1,\n        \"max\": 16,\n        \"num_unique_values\": 16,\n        \"samples\": [\n          13,\n          9,\n          10\n        ],\n        \"semantic_type\": \"\",\n        \"description\": \"\"\n      }\n    },\n    {\n      \"column\": \"marital-status\",\n      \"properties\": {\n        \"dtype\": \"category\",\n        \"num_unique_values\": 7,\n        \"samples\": [\n          \" Never-married\",\n          \" Married-civ-spouse\",\n          \" Married-AF-spouse\"\n        ],\n        \"semantic_type\": \"\",\n        \"description\": \"\"\n      }\n    },\n    {\n      \"column\": \"occupation\",\n      \"properties\": {\n        \"dtype\": \"category\",\n        \"num_unique_values\": 15,\n        \"samples\": [\n          \" Machine-op-inspct\",\n          \" ?\",\n          \" Adm-clerical\"\n        ],\n        \"semantic_type\": \"\",\n        \"description\": \"\"\n      }\n    },\n    {\n      \"column\": \"relationship\",\n      \"properties\": {\n        \"dtype\": \"category\",\n        \"num_unique_values\": 6,\n        \"samples\": [\n          \" Not-in-family\",\n          \" Husband\",\n          \" Other-relative\"\n        ],\n        \"semantic_type\": \"\",\n        \"description\": \"\"\n      }\n    },\n    {\n      \"column\": \"race\",\n      \"properties\": {\n        \"dtype\": \"category\",\n        \"num_unique_values\": 5,\n        \"samples\": [\n          \" Black\",\n          \" Other\",\n          \" Asian-Pac-Islander\"\n        ],\n        \"semantic_type\": \"\",\n        \"description\": \"\"\n      }\n    },\n    {\n      \"column\": \"sex\",\n      \"properties\": {\n        \"dtype\": \"category\",\n        \"num_unique_values\": 2,\n        \"samples\": [\n          \" Female\",\n          \" Male\"\n        ],\n        \"semantic_type\": \"\",\n        \"description\": \"\"\n      }\n    },\n    {\n      \"column\": \"capital-gain\",\n      \"properties\": {\n        \"dtype\": \"number\",\n        \"std\": 7385,\n        \"min\": 0,\n        \"max\": 99999,\n        \"num_unique_values\": 119,\n        \"samples\": [\n          3781,\n          15831\n        ],\n        \"semantic_type\": \"\",\n        \"description\": \"\"\n      }\n    },\n    {\n      \"column\": \"capital-loos\",\n      \"properties\": {\n        \"dtype\": \"number\",\n        \"std\": 402,\n        \"min\": 0,\n        \"max\": 4356,\n        \"num_unique_values\": 92,\n        \"samples\": [\n          419,\n          2051\n        ],\n        \"semantic_type\": \"\",\n        \"description\": \"\"\n      }\n    },\n    {\n      \"column\": \"hour-per-week\",\n      \"properties\": {\n        \"dtype\": \"number\",\n        \"std\": 12,\n        \"min\": 1,\n        \"max\": 99,\n        \"num_unique_values\": 94,\n        \"samples\": [\n          6,\n          22\n        ],\n        \"semantic_type\": \"\",\n        \"description\": \"\"\n      }\n    },\n    {\n      \"column\": \"native-country\",\n      \"properties\": {\n        \"dtype\": \"category\",\n        \"num_unique_values\": 42,\n        \"samples\": [\n          \" El-Salvador\",\n          \" Philippines\"\n        ],\n        \"semantic_type\": \"\",\n        \"description\": \"\"\n      }\n    },\n    {\n      \"column\": \"income\",\n      \"properties\": {\n        \"dtype\": \"category\",\n        \"num_unique_values\": 2,\n        \"samples\": [\n          \" >50K\",\n          \" <=50K\"\n        ],\n        \"semantic_type\": \"\",\n        \"description\": \"\"\n      }\n    }\n  ]\n}"
            }
          },
          "metadata": {},
          "execution_count": 2
        }
      ],
      "source": [
        "# Criando um dataframe a partir do dados do arquivo\n",
        "df = pd.read_csv('/content/census.csv')\n",
        "df.head()"
      ]
    },
    {
      "cell_type": "code",
      "source": [
        "# Seleção de atributos (Dados de entrada)\n",
        "# Com o método .iloc selecionamos (por índice) todas as linhas,\n",
        "# e as colunas de 1 a 13 (o segundo parâmetro é excludente)\n",
        "X = df.iloc[:, 0:14].values"
      ],
      "metadata": {
        "id": "BTi4Ml0ffrNV"
      },
      "execution_count": 3,
      "outputs": []
    },
    {
      "cell_type": "code",
      "source": [
        "X"
      ],
      "metadata": {
        "id": "r65JXWoI_S5K",
        "colab": {
          "base_uri": "https://localhost:8080/"
        },
        "outputId": "6ab26d99-d3cd-42a5-c6f7-c7bab6e29295"
      },
      "execution_count": 4,
      "outputs": [
        {
          "output_type": "execute_result",
          "data": {
            "text/plain": [
              "array([[39, ' State-gov', 77516, ..., 0, 40, ' United-States'],\n",
              "       [50, ' Self-emp-not-inc', 83311, ..., 0, 13, ' United-States'],\n",
              "       [38, ' Private', 215646, ..., 0, 40, ' United-States'],\n",
              "       ...,\n",
              "       [58, ' Private', 151910, ..., 0, 40, ' United-States'],\n",
              "       [22, ' Private', 201490, ..., 0, 20, ' United-States'],\n",
              "       [52, ' Self-emp-inc', 287927, ..., 0, 40, ' United-States']],\n",
              "      dtype=object)"
            ]
          },
          "metadata": {},
          "execution_count": 4
        }
      ]
    },
    {
      "cell_type": "code",
      "source": [
        "# Seleção do target (Dados de saída)\n",
        "# Com o método .iloc selecionamos (por índice) todas as linhas, apenas a coluna 14 (income)\n",
        "y = df.iloc[:, 14].values"
      ],
      "metadata": {
        "id": "LhZwmixLfvQu"
      },
      "execution_count": 5,
      "outputs": []
    },
    {
      "cell_type": "code",
      "source": [
        "# Em Machine Learning, o \"Label Encoding\" é o processo de conversão\n",
        "# de variáveis categóricas em variáveis numéricas (inteiros).\n",
        "\n",
        "# Em nosso dataframe, as colunas com variáveis categóricas (e seus índices) são:\n",
        "# workclass (1), education (3), marital (5), occupation (6), relationship (7), race (8), sex (9) e country (13)\n",
        "\n",
        "# Criaremos variáveis com o nome das colunas e aplicaremos a transformação para cada uma deles com o LabelEncoder():\n",
        "le_workclass = LabelEncoder()\n",
        "le_education = LabelEncoder()\n",
        "le_marital = LabelEncoder()\n",
        "le_occupation = LabelEncoder()\n",
        "le_relationship = LabelEncoder()\n",
        "le_race = LabelEncoder()\n",
        "le_sex = LabelEncoder()\n",
        "le_country = LabelEncoder()"
      ],
      "metadata": {
        "id": "rjG5hM_Ef0r3"
      },
      "execution_count": 6,
      "outputs": []
    },
    {
      "cell_type": "code",
      "source": [
        "# Usando o método .fit_transform aplicamos os novos valores transformados às colunas:\n",
        "X[:,1] = le_workclass.fit_transform(X[:,1])\n",
        "X[:,3] = le_education.fit_transform(X[:,3])\n",
        "X[:,5] = le_marital.fit_transform(X[:,5])\n",
        "X[:,6] = le_occupation.fit_transform(X[:,6])\n",
        "X[:,7] = le_relationship.fit_transform(X[:,7])\n",
        "X[:,8] = le_race.fit_transform(X[:,8])\n",
        "X[:,9] = le_sex.fit_transform(X[:,9])\n",
        "X[:,13] = le_country.fit_transform(X[:,13])"
      ],
      "metadata": {
        "id": "Ag9BYqh4f7T5"
      },
      "execution_count": 7,
      "outputs": []
    },
    {
      "cell_type": "code",
      "source": [
        "X"
      ],
      "metadata": {
        "id": "fmptGzvIf_Bj",
        "colab": {
          "base_uri": "https://localhost:8080/"
        },
        "outputId": "c029110c-2574-4143-a3f4-b31ffde8c719"
      },
      "execution_count": 8,
      "outputs": [
        {
          "output_type": "execute_result",
          "data": {
            "text/plain": [
              "array([[39, 7, 77516, ..., 0, 40, 39],\n",
              "       [50, 6, 83311, ..., 0, 13, 39],\n",
              "       [38, 4, 215646, ..., 0, 40, 39],\n",
              "       ...,\n",
              "       [58, 4, 151910, ..., 0, 40, 39],\n",
              "       [22, 4, 201490, ..., 0, 20, 39],\n",
              "       [52, 5, 287927, ..., 0, 40, 39]], dtype=object)"
            ]
          },
          "metadata": {},
          "execution_count": 8
        }
      ]
    },
    {
      "cell_type": "code",
      "source": [
        "# Padronização\n",
        "# É o redimensionamento dos recursos para criar um “padrão” garantindo\n",
        "# que os novos dados tenham média zero e desvio padrão igual a 1\n",
        "scaler = StandardScaler()\n",
        "\n",
        "# Salvando os novos dados já padronizados:\n",
        "X = scaler.fit_transform(X)"
      ],
      "metadata": {
        "id": "jdc5VIv8gCW7"
      },
      "execution_count": 9,
      "outputs": []
    },
    {
      "cell_type": "code",
      "source": [
        "X"
      ],
      "metadata": {
        "id": "1kL1W76dgH1m",
        "colab": {
          "base_uri": "https://localhost:8080/"
        },
        "outputId": "db26e815-499b-4455-8958-bc3b0855dea0"
      },
      "execution_count": 10,
      "outputs": [
        {
          "output_type": "execute_result",
          "data": {
            "text/plain": [
              "array([[ 0.03067056,  2.15057856, -1.06361075, ..., -0.21665953,\n",
              "        -0.03542945,  0.29156857],\n",
              "       [ 0.83710898,  1.46373585, -1.008707  , ..., -0.21665953,\n",
              "        -2.22215312,  0.29156857],\n",
              "       [-0.04264203,  0.09005041,  0.2450785 , ..., -0.21665953,\n",
              "        -0.03542945,  0.29156857],\n",
              "       ...,\n",
              "       [ 1.42360965,  0.09005041, -0.35877741, ..., -0.21665953,\n",
              "        -0.03542945,  0.29156857],\n",
              "       [-1.21564337,  0.09005041,  0.11095988, ..., -0.21665953,\n",
              "        -1.65522476,  0.29156857],\n",
              "       [ 0.98373415,  0.77689313,  0.92989258, ..., -0.21665953,\n",
              "        -0.03542945,  0.29156857]])"
            ]
          },
          "metadata": {},
          "execution_count": 10
        }
      ]
    },
    {
      "cell_type": "code",
      "source": [
        "# Com o método train_test_split separamos os dados em treino e teste:\n",
        "# X_treino e y_treino: dados para treinamento dos modelos (80% dos dados iniciais)\n",
        "# X_teste e y_teste: dados para teste e avaliação dos modelos (20% dos dados iniciais)\n",
        "\n",
        "X_treino, X_teste, y_treino, y_teste = train_test_split(X, y, test_size=0.20, random_state=9)"
      ],
      "metadata": {
        "id": "GRYXDQPngKM_"
      },
      "execution_count": 13,
      "outputs": []
    },
    {
      "cell_type": "code",
      "source": [
        "X_treino.shape, X_teste.shape"
      ],
      "metadata": {
        "id": "zujBwX-1gPnf",
        "colab": {
          "base_uri": "https://localhost:8080/"
        },
        "outputId": "ed8e0bbe-a50b-4e4d-fb27-e9df846c909e"
      },
      "execution_count": 14,
      "outputs": [
        {
          "output_type": "execute_result",
          "data": {
            "text/plain": [
              "((26048, 14), (6513, 14))"
            ]
          },
          "metadata": {},
          "execution_count": 14
        }
      ]
    },
    {
      "cell_type": "markdown",
      "metadata": {
        "id": "6OurC4GyUoak"
      },
      "source": [
        "## Parte 3: Aplicação do algoritmo PCA (Principal component analysis)"
      ]
    },
    {
      "cell_type": "code",
      "execution_count": 15,
      "metadata": {
        "id": "ZmpO8urpX8kz"
      },
      "outputs": [],
      "source": [
        "# Criamos a variável pca e aplicamos o algoritmo PCA para a redução do número original de colunas para\n",
        "# um número definido \"p\"\n",
        "# O hiperparâmetro \"n_components\" recebe o valor definido de novas colunas (p)\n",
        "p = 8\n",
        "pca = PCA(n_components=p)"
      ]
    },
    {
      "cell_type": "code",
      "execution_count": 16,
      "metadata": {
        "id": "zVHnZ8rYYOeL"
      },
      "outputs": [],
      "source": [
        "# Definimos novas variáveis de treino e testes (agora com um menor números de colunas)\n",
        "X_treino_pca = pca.fit_transform(X_treino)\n",
        "X_teste_pca = pca.transform(X_teste)"
      ]
    },
    {
      "cell_type": "code",
      "execution_count": 17,
      "metadata": {
        "id": "5Ouz2wdFYkJh",
        "colab": {
          "base_uri": "https://localhost:8080/"
        },
        "outputId": "35222ebd-852a-49bc-ad25-bf713ea63b62"
      },
      "outputs": [
        {
          "output_type": "execute_result",
          "data": {
            "text/plain": [
              "((26048, 8), (6513, 8))"
            ]
          },
          "metadata": {},
          "execution_count": 17
        }
      ],
      "source": [
        "X_treino_pca.shape, X_teste_pca.shape"
      ]
    },
    {
      "cell_type": "code",
      "execution_count": 18,
      "metadata": {
        "id": "hdBAi-piY28x",
        "colab": {
          "base_uri": "https://localhost:8080/"
        },
        "outputId": "3a123083-ed0e-4e1e-f730-9a1e4fee96ed"
      },
      "outputs": [
        {
          "output_type": "execute_result",
          "data": {
            "text/plain": [
              "array([0.15147381, 0.10007598, 0.08885056, 0.08027073, 0.07654021,\n",
              "       0.07426723, 0.06843169, 0.06687819])"
            ]
          },
          "metadata": {},
          "execution_count": 18
        }
      ],
      "source": [
        "# O método \"explained_variance_ratio\" permite calcular a\n",
        "# porcentagem de variância dos dados que consegue ser explicada por cada um dos componentes selecionados\n",
        "\n",
        "# Relembrando! :-)\n",
        "# A variância, assim como o desvio padrão, é uma das medidas de dispersão de dados\n",
        "# que mostra o comportamento dos dados de uma amostra em relação a uma medida central (por exemplo, a média)\n",
        "\n",
        "pca.explained_variance_ratio_"
      ]
    },
    {
      "cell_type": "code",
      "execution_count": 19,
      "metadata": {
        "id": "lBxPFP0VZR1I",
        "colab": {
          "base_uri": "https://localhost:8080/"
        },
        "outputId": "5abbf2bc-127d-403c-9c6f-cab11551974a"
      },
      "outputs": [
        {
          "output_type": "stream",
          "name": "stdout",
          "text": [
            "O modelo PCA com 8 variáveis explica 70.68 % dos dados de entrada\n"
          ]
        }
      ],
      "source": [
        "# Somando os percentuais conseguimos ver o quanto nosso\n",
        "# modelo PCA conseguiu explicar dos dados de entrada\n",
        "total_variancia = pca.explained_variance_ratio_.sum()\n",
        "print(f'O modelo PCA com {p} variáveis explica{100*(total_variancia): .2f} % dos dados de entrada')"
      ]
    },
    {
      "cell_type": "markdown",
      "source": [
        "# Parte 4: Aplicando os novos dados gerados em um modelo de classificação."
      ],
      "metadata": {
        "id": "GHyjEUMJOTJv"
      }
    },
    {
      "cell_type": "markdown",
      "source": [
        "Utilizaremos o algoritmo de classificação Random Forest com base nos novos dados, após a aplicação da técnica de redução de dimensionalidade."
      ],
      "metadata": {
        "id": "HTuaKv4_x6eN"
      }
    },
    {
      "cell_type": "code",
      "execution_count": null,
      "metadata": {
        "id": "icbXkzMbaNu0"
      },
      "outputs": [],
      "source": [
        "# Instanciando o objeto do classificador\n",
        "modelo_rf = RandomForestClassifier(n_estimators=40, random_state=0)"
      ]
    },
    {
      "cell_type": "code",
      "source": [
        "# Usando o método .fit para treinar o modelo\n",
        "\n",
        "# Com base nos dados de treino iniciais:\n",
        "modelo_rf.fit(X_treino, y_treino)\n",
        "\n",
        "# Com base nos dados de treino gerados após a aplicação do algoritmo PCA:\n",
        "# modelo_rf.fit(X_treino_pca, y_treino)"
      ],
      "metadata": {
        "id": "Z4rFYXXmYJbG"
      },
      "execution_count": null,
      "outputs": []
    },
    {
      "cell_type": "code",
      "execution_count": null,
      "metadata": {
        "id": "B4b0SxRvacc1"
      },
      "outputs": [],
      "source": [
        "# Usando o método .predict para estimar os resultados\n",
        "\n",
        "# Realizando as previsões com base nos dados de teste iniciais\n",
        "previsoes = modelo_rf.predict(X_teste)\n",
        "\n",
        "# Realizando as previsões com base nos dados de teste após a aplicação do algoritmo PCA\n",
        "# previsoes = modelo_rf.predict(X_teste_pca)\n"
      ]
    },
    {
      "cell_type": "code",
      "source": [
        "previsoes"
      ],
      "metadata": {
        "id": "ugsXlY5QbmRD"
      },
      "execution_count": null,
      "outputs": []
    },
    {
      "cell_type": "code",
      "execution_count": null,
      "metadata": {
        "id": "L8TTOcS0ai60"
      },
      "outputs": [],
      "source": [
        "y_teste"
      ]
    },
    {
      "cell_type": "code",
      "execution_count": null,
      "metadata": {
        "id": "p585sPd2aoXI"
      },
      "outputs": [],
      "source": [
        "# Calculando a acurácia do modelo de classificação:\n",
        "acuracia = accuracy_score(y_teste, previsoes)\n",
        "print(f'A acurácia do modelo Random Forest é de:{(100*acuracia): .2f} %')\n",
        "\n",
        "# Sugestão de leitura:\n",
        "# Métricas de avaliação de modelos de aprendizado de máquina:\n",
        "# https://mariofilho.com/as-metricas-mais-populares-para-avaliar-modelos-de-machine-learning/"
      ]
    },
    {
      "cell_type": "markdown",
      "source": [
        "# Parte 5: Sugestões de exercícios\n",
        "\n",
        "- Volte nas células da Parte 3 e altere os valores de p.\n",
        "\n",
        "- Recalcule a média de variância dos dados após a aplicação do algoritmo PCA.\n",
        "\n",
        "- Treine novamente o modelo de classificação, realize as predições e compare os resultados.\n",
        "\n",
        "- Utilize um novo dataset e repita os passos."
      ],
      "metadata": {
        "id": "ZI36tPxIcVHb"
      }
    }
  ]
}