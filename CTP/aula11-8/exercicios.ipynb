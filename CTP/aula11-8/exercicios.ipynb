{
 "cells": [
  {
   "cell_type": "markdown",
   "metadata": {},
   "source": [
    "### Exercício 1"
   ]
  },
  {
   "cell_type": "code",
   "execution_count": 22,
   "metadata": {},
   "outputs": [
    {
     "name": "stdout",
     "output_type": "stream",
     "text": [
      "8\n"
     ]
    }
   ],
   "source": [
    "def ver_vogal_minuscula(f: str) -> None:\n",
    "    vogais = 'aeiou'\n",
    "    qtd = 0\n",
    "    for elem in f:\n",
    "        if elem in vogais:\n",
    "            qtd += 1\n",
    "    print(qtd)\n",
    "\n",
    "frase = 'O rato roeu A roupa'\n",
    "ver_vogal_minuscula(frase)\n"
   ]
  },
  {
   "cell_type": "markdown",
   "metadata": {},
   "source": [
    "### Exercício 2"
   ]
  },
  {
   "cell_type": "code",
   "execution_count": 19,
   "metadata": {},
   "outputs": [
    {
     "name": "stdout",
     "output_type": "stream",
     "text": [
      "2\n"
     ]
    }
   ],
   "source": [
    "def ver_vogal_maiuscula(f: str) -> None:\n",
    "    vogais = 'AEIOU'\n",
    "    qtd = 0\n",
    "    for elem in f:\n",
    "        if elem in vogais:\n",
    "            qtd += 1\n",
    "    print(qtd)\n",
    "\n",
    "frase = 'O rato roeu A roupa'\n",
    "ver_vogal_maiuscula(frase)"
   ]
  },
  {
   "cell_type": "markdown",
   "metadata": {},
   "source": [
    "### Exercício 3"
   ]
  },
  {
   "cell_type": "code",
   "execution_count": 10,
   "metadata": {},
   "outputs": [
    {
     "name": "stdout",
     "output_type": "stream",
     "text": [
      "5\n"
     ]
    }
   ],
   "source": [
    "def contar_consoantes_minusculas(f: str) -> None:\n",
    "    con = 'bcdfghjklmnpqrstvwxyz'\n",
    "    qtd = 0\n",
    "    for elem in f:\n",
    "        if elem in con:\n",
    "            qtd += 1\n",
    "    print(qtd)\n",
    "\n",
    "frase = 'testando'\n",
    "contar_consoantes_minusculas(frase)"
   ]
  },
  {
   "cell_type": "markdown",
   "metadata": {},
   "source": [
    "### Exercício 4"
   ]
  },
  {
   "cell_type": "code",
   "execution_count": 15,
   "metadata": {},
   "outputs": [
    {
     "name": "stdout",
     "output_type": "stream",
     "text": [
      "2\n"
     ]
    }
   ],
   "source": [
    "def contar_consoantes_maiusculas(f: str) -> None:\n",
    "    con = 'bcdfghjklmnpqrstvwxyz'\n",
    "    qtd = 0\n",
    "    for elem in f:\n",
    "        if elem in con.upper():\n",
    "            qtd += 1\n",
    "    print(qtd)\n",
    "\n",
    "frase = 'TeStando'\n",
    "contar_consoantes_maiusculas(frase)"
   ]
  },
  {
   "cell_type": "markdown",
   "metadata": {},
   "source": [
    "### Exercício 5"
   ]
  },
  {
   "cell_type": "code",
   "execution_count": 20,
   "metadata": {},
   "outputs": [
    {
     "name": "stdout",
     "output_type": "stream",
     "text": [
      "10\n"
     ]
    }
   ],
   "source": [
    "def ver_vogal(f: str) -> None:\n",
    "    vogais = 'AEIOUaeiou'\n",
    "    qtd = 0\n",
    "    for elem in f:\n",
    "        if elem in vogais:\n",
    "            qtd += 1\n",
    "    print(qtd)\n",
    "\n",
    "frase = 'O rato roeu A roupa'\n",
    "ver_vogal(frase)"
   ]
  },
  {
   "cell_type": "markdown",
   "metadata": {},
   "source": [
    "### Exercício 6"
   ]
  },
  {
   "cell_type": "code",
   "execution_count": 25,
   "metadata": {},
   "outputs": [
    {
     "name": "stdout",
     "output_type": "stream",
     "text": [
      "2\n"
     ]
    }
   ],
   "source": [
    "def ver_dig(f: str) -> None:\n",
    "    qtd = 0\n",
    "    for elem in f:\n",
    "        if elem.isdigit():\n",
    "            qtd += 1\n",
    "    print(qtd)\n",
    "\n",
    "frase = \"Edson tem 49 anos\"\n",
    "\n",
    "ver_dig(frase)"
   ]
  }
 ],
 "metadata": {
  "kernelspec": {
   "display_name": "Python 3",
   "language": "python",
   "name": "python3"
  },
  "language_info": {
   "codemirror_mode": {
    "name": "ipython",
    "version": 3
   },
   "file_extension": ".py",
   "mimetype": "text/x-python",
   "name": "python",
   "nbconvert_exporter": "python",
   "pygments_lexer": "ipython3",
   "version": "3.10.8"
  },
  "orig_nbformat": 4
 },
 "nbformat": 4,
 "nbformat_minor": 2
}
