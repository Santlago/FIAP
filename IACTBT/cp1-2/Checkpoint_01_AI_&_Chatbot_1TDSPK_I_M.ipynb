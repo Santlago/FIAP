{
  "cells": [
    {
      "cell_type": "markdown",
      "metadata": {
        "id": "YuA17r7K0uhw"
      },
      "source": [
        "### **Curso:** Tecnologia em Análise e Desenvolvimento de Sistemas\n",
        "### **Disciplina:** AI & Chatbot\n",
        "### **Turma:** 1TSPK / 1TDSPI / 1TDSPM\n",
        "#### Prof. André Tritiack - prof.andrefarias@fiap.com.br\n",
        "#### 2º Semestre de 2023\n",
        "\n",
        "CHECKPOINT 1 (2o semestre): AI and Chatbot\n",
        "Pontuação Máxima: 10.00 pontos\n",
        "\n",
        "OBSERVAÇÃO:\n",
        "As aulas dessa semana (02 a 06/10) serão utilizadas para o início do desenvolvimento do Checkpoint!\n",
        "\n",
        "1.\tO trabalho deve ser realizado em grupo de até 5 (cinco) pessoas. Não precisa necessariamente ser o mesmo grupo do Challenge.\n",
        "\n",
        "2. O conteúdo relacionado a este Checkpoint refere-se à:\n",
        "Análise exploratória e estatística descritiva (medidas de tendência central e medidas de dispersão) usando Python, com Pandas e Numpy\n",
        "\n",
        "3. É de fundamental importância que sejam criadas células de texto e/ou comentários para suas respostas e apontamentos. Use strings formatadas (f-strings) como nos exemplos da aula para apresentar os valores das saídas.\n",
        "\n",
        "4. Apenas um aluno submeterá o arquivo no Teams.\n",
        "\n",
        "5. Sugere-se que seja utilizado o **Google Colab** para melhor visualização dos enunciados.\n",
        "\n",
        "6.\tVocê deverá submeter uma cópia deste arquivo notebook .ipynb com as respostas nos campos indicados e as saídas (outputs) executadas.\n",
        "\n",
        "7. Siga a metodologia estudada em aula ou pesquise as soluções (existem dezenas de formas de resolver). Entretanto, cuidado ao inserir códigos prontos.\n",
        "\n",
        "8. Você pode usar trechos de códigos de notebooks das aulas e de fontes pesquisadas mas não copie de outros grupos. Se forem observados arquivos iguais ou muito semelhantes, ambos serão desconsiderados, tendo suas notas zeradas.\n",
        "\n",
        "9. A entrega deverá ser feita até às 23h59 do dia 07/10/2023, na respectiva tarefa no Microsoft Teams.\n",
        "\n",
        "10. As pontuações das questões estão marcadas nos enunciados.\n",
        "\n",
        "11. Tire suas dúvidas com o professor e não deixe a entrega para o último dia."
      ]
    },
    {
      "cell_type": "markdown",
      "metadata": {
        "id": "V4P5XGwU6yqy"
      },
      "source": [
        "### Insira aqui o nome e o RM dos membros do grupo:\n",
        "Exemplo:\n",
        "- Nome: Breno Lemes Santiago - RM: 552270\n",
        "- Nome: XXXX - RM: XX.XXX"
      ]
    },
    {
      "cell_type": "markdown",
      "metadata": {
        "id": "hz85DuaW7IFx"
      },
      "source": [
        "# Introdução: Preparando o vetor com o Numpy\n",
        "\n",
        "\n"
      ]
    },
    {
      "cell_type": "code",
      "execution_count": 3,
      "metadata": {
        "id": "eH_H8Gj_NuCh"
      },
      "outputs": [],
      "source": [
        "# Importe aqui a biblioteca Numpy:\n",
        "import numpy as np"
      ]
    },
    {
      "cell_type": "markdown",
      "metadata": {
        "id": "4VpbTlCjRsKC"
      },
      "source": [
        "Execute a célula a seguir:"
      ]
    },
    {
      "cell_type": "code",
      "execution_count": 4,
      "metadata": {
        "id": "Whn3GnmCO_ho"
      },
      "outputs": [
        {
          "name": "stdout",
          "output_type": "stream",
          "text": [
            "Este é o seu vetor: [78 86 24 60 59  0 52 85 84 72]\n"
          ]
        }
      ],
      "source": [
        "# Esta célula gerará o vetor de dez números aleatórios de 0 a 99 para as próximas questões:\n",
        "SEED = int(input('Digite os dois últimos números do seu RM: '))\n",
        "np.random.seed(SEED)\n",
        "vetor = np.random.randint(0, 100, 10)\n",
        "print(f'Este é o seu vetor: {vetor}')"
      ]
    },
    {
      "cell_type": "markdown",
      "metadata": {
        "id": "YWdVP09iOVKs"
      },
      "source": [
        "Este é o vetor que seu grupo utilizará para as questões seguintes."
      ]
    },
    {
      "cell_type": "markdown",
      "metadata": {
        "id": "Pp0uY_4m8U2x"
      },
      "source": [
        "# Questão 01 (2.00 pontos):\n",
        "Usando as funções do Numpy, calcule a média aritmética simples, a mediana e o desvio padrão com base no vetor gerado.\n",
        "\n",
        "Utilize strings formatadas (f-print) para a apresentação dos valores, todos com três casas decimais."
      ]
    },
    {
      "cell_type": "code",
      "execution_count": 5,
      "metadata": {
        "id": "hXUK1jRbP8QJ"
      },
      "outputs": [
        {
          "ename": "AttributeError",
          "evalue": "'numpy.ndarray' object has no attribute 'median'",
          "output_type": "error",
          "traceback": [
            "\u001b[1;31m---------------------------------------------------------------------------\u001b[0m",
            "\u001b[1;31mAttributeError\u001b[0m                            Traceback (most recent call last)",
            "\u001b[1;32mc:\\Users\\Breno\\gitClones\\FIAP\\FIAP\\IACTBT\\cp1-2\\Checkpoint_01_AI_&_Chatbot_1TDSPK_I_M.ipynb Cell 9\u001b[0m line \u001b[0;36m3\n\u001b[0;32m      <a href='vscode-notebook-cell:/c%3A/Users/Breno/gitClones/FIAP/FIAP/IACTBT/cp1-2/Checkpoint_01_AI_%26_Chatbot_1TDSPK_I_M.ipynb#X11sZmlsZQ%3D%3D?line=0'>1</a>\u001b[0m \u001b[39m# Utilize as células a seguir para a resolução da questão (crie quantas células forem necessárias)\u001b[39;00m\n\u001b[0;32m      <a href='vscode-notebook-cell:/c%3A/Users/Breno/gitClones/FIAP/FIAP/IACTBT/cp1-2/Checkpoint_01_AI_%26_Chatbot_1TDSPK_I_M.ipynb#X11sZmlsZQ%3D%3D?line=1'>2</a>\u001b[0m media \u001b[39m=\u001b[39m vetor\u001b[39m.\u001b[39mmean()\n\u001b[1;32m----> <a href='vscode-notebook-cell:/c%3A/Users/Breno/gitClones/FIAP/FIAP/IACTBT/cp1-2/Checkpoint_01_AI_%26_Chatbot_1TDSPK_I_M.ipynb#X11sZmlsZQ%3D%3D?line=2'>3</a>\u001b[0m mediana \u001b[39m=\u001b[39m vetor\u001b[39m.\u001b[39;49mmedian()\n\u001b[0;32m      <a href='vscode-notebook-cell:/c%3A/Users/Breno/gitClones/FIAP/FIAP/IACTBT/cp1-2/Checkpoint_01_AI_%26_Chatbot_1TDSPK_I_M.ipynb#X11sZmlsZQ%3D%3D?line=3'>4</a>\u001b[0m desvio_padrao \u001b[39m=\u001b[39m vetor\u001b[39m.\u001b[39mstd()\n",
            "\u001b[1;31mAttributeError\u001b[0m: 'numpy.ndarray' object has no attribute 'median'"
          ]
        }
      ],
      "source": [
        "# Utilize as células a seguir para a resolução da questão (crie quantas células forem necessárias)\n",
        "media = vetor.mean()\n",
        "mediana = vetor.median()\n",
        "desvio_padrao = vetor.std()"
      ]
    },
    {
      "cell_type": "code",
      "execution_count": null,
      "metadata": {
        "id": "_7mP_oGIRaLT"
      },
      "outputs": [],
      "source": [
        "print(f\"A média do vetor é {media}\")\n",
        "print(f\"A mediana do vetor é {mediana}\")\n",
        "print(f\"O desvio padrão do vetor é {desvio_padrao}\")"
      ]
    },
    {
      "cell_type": "markdown",
      "metadata": {
        "id": "K9we1Afu9OMh"
      },
      "source": [
        "# Questão 02 (2.00 pontos)\n",
        "\n"
      ]
    },
    {
      "cell_type": "code",
      "execution_count": null,
      "metadata": {
        "id": "EMvnXjyeSP4T"
      },
      "outputs": [],
      "source": [
        "# Importe aqui a biblioteca Pandas:\n"
      ]
    },
    {
      "cell_type": "markdown",
      "metadata": {
        "id": "3Ei0S2XDTC3N"
      },
      "source": [
        "Importante: copie o arquivo \"FuelConsumptionCo2.csv\" para o armazenamento da sessão do Colab para as próximas etapas."
      ]
    },
    {
      "cell_type": "code",
      "execution_count": null,
      "metadata": {
        "id": "CVGFxxP0SPfP"
      },
      "outputs": [],
      "source": [
        "# Crie uma variável para armazenar o conjunto de dados:\n"
      ]
    },
    {
      "cell_type": "code",
      "execution_count": null,
      "metadata": {
        "id": "YrEsPj3TTb5q"
      },
      "outputs": [],
      "source": [
        "# Visualize as primeiras linhas:\n"
      ]
    },
    {
      "cell_type": "code",
      "execution_count": null,
      "metadata": {
        "id": "rd0ECifTTbuB"
      },
      "outputs": [],
      "source": [
        "# Visualize as últimas linhas:\n"
      ]
    },
    {
      "cell_type": "code",
      "execution_count": null,
      "metadata": {
        "id": "FZpv7IXwTbgg"
      },
      "outputs": [],
      "source": [
        "# Quantas linhas e quantas colunas o dataset possui?\n"
      ]
    },
    {
      "cell_type": "code",
      "execution_count": null,
      "metadata": {
        "id": "4szvGs2MTxln"
      },
      "outputs": [],
      "source": [
        "# Quais tipos de variáveis o dataset possui?\n"
      ]
    },
    {
      "cell_type": "code",
      "execution_count": null,
      "metadata": {
        "id": "71IDCUJGUCLB"
      },
      "outputs": [],
      "source": [
        "# Mostre a tabela de estatíticas descritivas do dataset.\n"
      ]
    },
    {
      "cell_type": "markdown",
      "metadata": {
        "id": "ed8-NMMG_b_4"
      },
      "source": [
        "# Questão 03 (2.00 pontos)"
      ]
    },
    {
      "cell_type": "code",
      "execution_count": null,
      "metadata": {
        "id": "7pQhUmjgSUxK"
      },
      "outputs": [],
      "source": [
        "# Selecione uma coluna (de sua preferência) do dataset importado acima que possua valores numéricos:\n"
      ]
    },
    {
      "cell_type": "code",
      "execution_count": null,
      "metadata": {
        "id": "8vFqosacSUoT"
      },
      "outputs": [],
      "source": [
        "# Crie uma variável e armazene os dados da coluna no formato Series:\n"
      ]
    },
    {
      "cell_type": "code",
      "execution_count": null,
      "metadata": {
        "id": "4SvMJ4wwSUgO"
      },
      "outputs": [],
      "source": [
        "# Crie uma variável e armazene os dados da coluna no formato DataFrame:\n"
      ]
    },
    {
      "cell_type": "code",
      "execution_count": null,
      "metadata": {
        "id": "EggcIfOMSUWh"
      },
      "outputs": [],
      "source": [
        "# Usando as funções do Numpy, calcule a média aritmética simples, a mediana e o desvio padrão dos valores da coluna selecionada.\n",
        "# Utilize strings formatadas (f-print) para a apresentação dos valores, todos com três casas decimais.\n"
      ]
    },
    {
      "cell_type": "markdown",
      "metadata": {
        "id": "T2bRDO-XVuXI"
      },
      "source": [
        "# Questão 04 (2.00 pontos)"
      ]
    },
    {
      "cell_type": "code",
      "execution_count": null,
      "metadata": {
        "id": "VSGN7EQ-VmnS"
      },
      "outputs": [],
      "source": [
        "# Geração da primeira amostra.\n",
        "# Usando o método .iloc, gere uma amostra de 10%, com base nos primeiros valores da coluna utilizada acima."
      ]
    },
    {
      "cell_type": "code",
      "execution_count": null,
      "metadata": {
        "id": "zLhn6DHpWa2P"
      },
      "outputs": [],
      "source": []
    },
    {
      "cell_type": "code",
      "execution_count": null,
      "metadata": {
        "id": "zZgE9dtQWanC"
      },
      "outputs": [],
      "source": []
    },
    {
      "cell_type": "code",
      "execution_count": null,
      "metadata": {
        "id": "giqOlu-iWSPi"
      },
      "outputs": [],
      "source": [
        "# Usando as funções do Numpy, calcule a média aritmética simples, a mediana e o desvio padrão dos valores da amostra criada.\n",
        "# Utilize strings formatadas (f-print) para a apresentação dos valores, todos com três casas decimais.\n"
      ]
    },
    {
      "cell_type": "code",
      "execution_count": null,
      "metadata": {
        "id": "h7a1RvcaWbie"
      },
      "outputs": [],
      "source": []
    },
    {
      "cell_type": "code",
      "execution_count": null,
      "metadata": {
        "id": "YXaMrly0WbZw"
      },
      "outputs": [],
      "source": []
    },
    {
      "cell_type": "markdown",
      "metadata": {
        "id": "JlS9q-5_Wcrt"
      },
      "source": [
        "# Questão 05 (2.00 pontos)"
      ]
    },
    {
      "cell_type": "code",
      "execution_count": null,
      "metadata": {
        "id": "rS34JIXVWg_Z"
      },
      "outputs": [],
      "source": [
        "# Geração da segunda amostra.\n",
        "# Utilize o método .sample, conforme visto na aula, para gerar uma amostra aleatória do mesmo tamanho da amostra da questão anterior.\n"
      ]
    },
    {
      "cell_type": "code",
      "execution_count": null,
      "metadata": {
        "id": "0gFvz9vYWrzi"
      },
      "outputs": [],
      "source": []
    },
    {
      "cell_type": "code",
      "execution_count": null,
      "metadata": {
        "id": "q10pNxKWWrt9"
      },
      "outputs": [],
      "source": []
    },
    {
      "cell_type": "code",
      "execution_count": null,
      "metadata": {
        "id": "PxHWAYeXWt4o"
      },
      "outputs": [],
      "source": [
        "# Usando as funções do Numpy, calcule a média aritmética simples, a mediana e o desvio padrão dos valores da amostra criada.\n",
        "# Utilize strings formatadas (f-print) para a apresentação dos valores, todos com três casas decimais."
      ]
    },
    {
      "cell_type": "code",
      "execution_count": null,
      "metadata": {
        "id": "d37GL06bWtah"
      },
      "outputs": [],
      "source": []
    },
    {
      "cell_type": "code",
      "execution_count": null,
      "metadata": {
        "id": "YyfZFY1uWtVO"
      },
      "outputs": [],
      "source": []
    }
  ],
  "metadata": {
    "colab": {
      "provenance": []
    },
    "kernel_info": {
      "name": "python"
    },
    "kernelspec": {
      "display_name": "Python 3",
      "language": "python",
      "name": "python3"
    },
    "language_info": {
      "codemirror_mode": {
        "name": "ipython",
        "version": 3
      },
      "file_extension": ".py",
      "mimetype": "text/x-python",
      "name": "python",
      "nbconvert_exporter": "python",
      "pygments_lexer": "ipython3",
      "version": "3.11.5"
    },
    "nteract": {
      "version": "nteract-front-end@1.0.0"
    }
  },
  "nbformat": 4,
  "nbformat_minor": 0
}
