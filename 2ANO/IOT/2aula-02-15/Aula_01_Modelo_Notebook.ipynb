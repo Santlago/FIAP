{
  "cells": [
    {
      "attachments": {},
      "cell_type": "markdown",
      "metadata": {
        "id": "8mefUfPB6Hp6"
      },
      "source": [
        "Importação das bibliotecas"
      ]
    },
    {
      "cell_type": "code",
      "execution_count": 1,
      "metadata": {
        "id": "7Og2mGx6xVZS"
      },
      "outputs": [
        {
          "ename": "ModuleNotFoundError",
          "evalue": "No module named 'pandas'",
          "output_type": "error",
          "traceback": [
            "\u001b[1;31m---------------------------------------------------------------------------\u001b[0m",
            "\u001b[1;31mModuleNotFoundError\u001b[0m                       Traceback (most recent call last)",
            "Cell \u001b[1;32mIn[1], line 2\u001b[0m\n\u001b[0;32m      1\u001b[0m \u001b[39m# Importar as bibliotecas necessárias\u001b[39;00m\n\u001b[1;32m----> 2\u001b[0m \u001b[39mimport\u001b[39;00m \u001b[39mpandas\u001b[39;00m \u001b[39mas\u001b[39;00m \u001b[39mpd\u001b[39;00m\n\u001b[0;32m      4\u001b[0m \u001b[39m# Conversão de dados categóricos em numéricos\u001b[39;00m\n\u001b[0;32m      5\u001b[0m \u001b[39mfrom\u001b[39;00m \u001b[39msklearn\u001b[39;00m\u001b[39m.\u001b[39;00m\u001b[39mpreprocessing\u001b[39;00m \u001b[39mimport\u001b[39;00m LabelEncoder\n",
            "\u001b[1;31mModuleNotFoundError\u001b[0m: No module named 'pandas'"
          ]
        }
      ],
      "source": [
        "# Importar as bibliotecas necessárias\n",
        "import pandas as pd\n",
        "\n",
        "# Conversão de dados categóricos em numéricos\n",
        "from sklearn.preprocessing import LabelEncoder\n",
        "\n",
        "# Algoritmos de classificação\n",
        "# KNN (K-Nearest Neighbors)\n",
        "from sklearn.neighbors import KNeighborsClassifier\n",
        "# Decision Tree\n",
        "from sklearn.tree import DecisionTreeClassifier\n",
        "\n",
        "# Seleção de dados de treino e teste\n",
        "from sklearn.model_selection import train_test_split\n",
        "\n",
        "# Obtenção da acurácia do modelo\n",
        "from sklearn.metrics import accuracy_score"
      ]
    },
    {
      "attachments": {},
      "cell_type": "markdown",
      "metadata": {
        "id": "lTIB4NnP6NUm"
      },
      "source": [
        "Importação dos dados"
      ]
    },
    {
      "cell_type": "code",
      "execution_count": null,
      "metadata": {
        "id": "1YKd1Lo15OrZ"
      },
      "outputs": [],
      "source": [
        "# Criar um Data Frame a partir do arquivo de dados\n"
      ]
    },
    {
      "attachments": {},
      "cell_type": "markdown",
      "metadata": {
        "id": "Tgz6nAh86P5_"
      },
      "source": [
        "Análise Exploratória"
      ]
    },
    {
      "cell_type": "code",
      "execution_count": null,
      "metadata": {
        "id": "B4hs8Uh75X64"
      },
      "outputs": [],
      "source": [
        "# Visualizar as primeiras linhas\n"
      ]
    },
    {
      "cell_type": "code",
      "execution_count": null,
      "metadata": {
        "id": "A1Nnx7yJ5zGi"
      },
      "outputs": [],
      "source": [
        "# Visualizar as últimas linhas\n"
      ]
    },
    {
      "cell_type": "code",
      "execution_count": null,
      "metadata": {
        "id": "-kp484uM5zCW"
      },
      "outputs": [],
      "source": [
        "# Quantas linhas e colunas tem o Data Frame?\n"
      ]
    },
    {
      "cell_type": "code",
      "execution_count": null,
      "metadata": {
        "id": "hEz5YzNl5y_k"
      },
      "outputs": [],
      "source": [
        "# Estatísticas descritivas\n"
      ]
    },
    {
      "cell_type": "code",
      "execution_count": null,
      "metadata": {
        "id": "Qv6IuVdG62Va"
      },
      "outputs": [],
      "source": [
        "# Nomes das colunas\n"
      ]
    },
    {
      "cell_type": "code",
      "execution_count": null,
      "metadata": {
        "id": "Ikf5E-2Z5y7K"
      },
      "outputs": [],
      "source": [
        "# Informações do formato de dados das colunas\n"
      ]
    },
    {
      "cell_type": "code",
      "execution_count": null,
      "metadata": {
        "id": "BzGqUPYG5yoV"
      },
      "outputs": [],
      "source": [
        "# Seleção dos dados de uma coluna (formato Series)\n"
      ]
    },
    {
      "cell_type": "code",
      "execution_count": null,
      "metadata": {
        "id": "0cANLnTu7AJ8"
      },
      "outputs": [],
      "source": [
        "# Seleção dos dados de uma coluna (formato Data Frame)\n"
      ]
    },
    {
      "cell_type": "code",
      "execution_count": null,
      "metadata": {
        "id": "tgJ5XhxC7DRu"
      },
      "outputs": [],
      "source": [
        "# Exclusão de uma coluna\n"
      ]
    },
    {
      "cell_type": "code",
      "execution_count": null,
      "metadata": {
        "id": "UaUqKDNN7JLa"
      },
      "outputs": [],
      "source": [
        "# Cálculo de média aritmética dos valores de uma coluna\n"
      ]
    },
    {
      "cell_type": "code",
      "execution_count": null,
      "metadata": {
        "id": "PIohVCov7QOQ"
      },
      "outputs": [],
      "source": [
        "# Cálculo de mediana dos valores de uma coluna\n"
      ]
    },
    {
      "cell_type": "code",
      "execution_count": null,
      "metadata": {
        "id": "bwc2Ksep7QCP"
      },
      "outputs": [],
      "source": [
        "# Cálculo do desvio padrão dos valores de uma coluna\n"
      ]
    },
    {
      "cell_type": "code",
      "execution_count": null,
      "metadata": {
        "id": "5WCq-8CBCsMS"
      },
      "outputs": [],
      "source": [
        "# Informações gerais das colunas\n"
      ]
    },
    {
      "cell_type": "code",
      "execution_count": null,
      "metadata": {
        "id": "57LirAKuDJWK"
      },
      "outputs": [],
      "source": [
        "# Dados de uma coluna no formato Numpy Array (Vetor)\n"
      ]
    },
    {
      "attachments": {},
      "cell_type": "markdown",
      "metadata": {
        "id": "n5Dw0O9H8vTN"
      },
      "source": [
        "Pré Processamento"
      ]
    },
    {
      "cell_type": "code",
      "execution_count": null,
      "metadata": {
        "id": "uwsa_ZCT8dlw"
      },
      "outputs": [],
      "source": [
        "# Conversão de uma coluna de dados categóricos para dados numéricos\n"
      ]
    },
    {
      "cell_type": "code",
      "execution_count": null,
      "metadata": {
        "id": "qTh22gSS81fJ"
      },
      "outputs": [],
      "source": [
        "# Separação dos dados de entrada e dados de saída usando método .iloc\n"
      ]
    },
    {
      "cell_type": "code",
      "execution_count": null,
      "metadata": {
        "id": "p9ClPm9F9Agt"
      },
      "outputs": [],
      "source": [
        "# Separação em dados de treino e dados de teste\n"
      ]
    },
    {
      "cell_type": "code",
      "execution_count": null,
      "metadata": {
        "id": "MJ0Wg7hqU_yK"
      },
      "outputs": [],
      "source": [
        "# Tamanho do conjunto de treino\n"
      ]
    },
    {
      "cell_type": "code",
      "execution_count": null,
      "metadata": {
        "id": "MA13NR9JVEm6"
      },
      "outputs": [],
      "source": [
        "# Tamanho do conjunto de teste\n"
      ]
    },
    {
      "attachments": {},
      "cell_type": "markdown",
      "metadata": {
        "id": "6GzQpFR1Tagq"
      },
      "source": [
        "Escolha do algoritmo"
      ]
    },
    {
      "cell_type": "code",
      "execution_count": null,
      "metadata": {
        "id": "Px1vjwhjTeKQ"
      },
      "outputs": [],
      "source": [
        "# Instanciar o modelo\n"
      ]
    },
    {
      "cell_type": "code",
      "execution_count": null,
      "metadata": {
        "id": "1OjqBJMoU87s"
      },
      "outputs": [],
      "source": [
        "# Treinar o modelo\n"
      ]
    },
    {
      "attachments": {},
      "cell_type": "markdown",
      "metadata": {
        "id": "GU4hYR16VLz4"
      },
      "source": [
        "Avaliar o modelo com base na acurácia"
      ]
    },
    {
      "cell_type": "code",
      "execution_count": null,
      "metadata": {
        "id": "aDX2islKU8pP"
      },
      "outputs": [],
      "source": [
        "#"
      ]
    },
    {
      "attachments": {},
      "cell_type": "markdown",
      "metadata": {
        "id": "0KdUecDvVVe1"
      },
      "source": [
        "EXERCÍCIO: Treine um outro modelo usando o algoritmo Decision Tree e compare as métricas"
      ]
    }
  ],
  "metadata": {
    "colab": {
      "provenance": []
    },
    "kernelspec": {
      "display_name": "Python 3",
      "name": "python3"
    },
    "language_info": {
      "codemirror_mode": {
        "name": "ipython",
        "version": 3
      },
      "file_extension": ".py",
      "mimetype": "text/x-python",
      "name": "python",
      "nbconvert_exporter": "python",
      "pygments_lexer": "ipython3",
      "version": "3.11.4"
    }
  },
  "nbformat": 4,
  "nbformat_minor": 0
}
