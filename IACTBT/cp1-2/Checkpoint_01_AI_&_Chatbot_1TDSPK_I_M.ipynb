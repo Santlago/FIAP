{
  "cells": [
    {
      "cell_type": "markdown",
      "source": [
        "### **Curso:** Tecnologia em Análise e Desenvolvimento de Sistemas\n",
        "### **Disciplina:** AI & Chatbot\n",
        "### **Turma:** 1TSPK / 1TDSPI / 1TDSPM\n",
        "#### Prof. André Tritiack - prof.andrefarias@fiap.com.br\n",
        "#### 2º Semestre de 2023\n",
        "\n",
        "CHECKPOINT 1 (2o semestre): AI and Chatbot\n",
        "Pontuação Máxima: 10.00 pontos\n",
        "\n",
        "OBSERVAÇÃO:\n",
        "As aulas dessa semana (02 a 06/10) serão utilizadas para o início do desenvolvimento do Checkpoint!\n",
        "\n",
        "1.\tO trabalho deve ser realizado em grupo de até 5 (cinco) pessoas. Não precisa necessariamente ser o mesmo grupo do Challenge.\n",
        "\n",
        "2. O conteúdo relacionado a este Checkpoint refere-se à:\n",
        "Análise exploratória e estatística descritiva (medidas de tendência central e medidas de dispersão) usando Python, com Pandas e Numpy\n",
        "\n",
        "3. É de fundamental importância que sejam criadas células de texto e/ou comentários para suas respostas e apontamentos. Use strings formatadas (f-strings) como nos exemplos da aula para apresentar os valores das saídas.\n",
        "\n",
        "4. Apenas um aluno submeterá o arquivo no Teams.\n",
        "\n",
        "5. Sugere-se que seja utilizado o **Google Colab** para melhor visualização dos enunciados.\n",
        "\n",
        "6.\tVocê deverá submeter uma cópia deste arquivo notebook .ipynb com as respostas nos campos indicados e as saídas (outputs) executadas.\n",
        "\n",
        "7. Siga a metodologia estudada em aula ou pesquise as soluções (existem dezenas de formas de resolver). Entretanto, cuidado ao inserir códigos prontos.\n",
        "\n",
        "8. Você pode usar trechos de códigos de notebooks das aulas e de fontes pesquisadas mas não copie de outros grupos. Se forem observados arquivos iguais ou muito semelhantes, ambos serão desconsiderados, tendo suas notas zeradas.\n",
        "\n",
        "9. A entrega deverá ser feita até às 23h59 do dia 07/10/2023, na respectiva tarefa no Microsoft Teams.\n",
        "\n",
        "10. As pontuações das questões estão marcadas nos enunciados.\n",
        "\n",
        "11. Tire suas dúvidas com o professor e não deixe a entrega para o último dia."
      ],
      "metadata": {
        "id": "YuA17r7K0uhw"
      }
    },
    {
      "cell_type": "markdown",
      "source": [
        "### Insira aqui o nome e o RM dos membros do grupo:\n",
        "Exemplo:\n",
        "- Nome: XXXX - RM: XX.XXX\n",
        "- Nome: XXXX - RM: XX.XXX"
      ],
      "metadata": {
        "id": "V4P5XGwU6yqy"
      }
    },
    {
      "cell_type": "markdown",
      "source": [
        "# Introdução: Preparando o vetor com o Numpy\n",
        "\n",
        "\n"
      ],
      "metadata": {
        "id": "hz85DuaW7IFx"
      }
    },
    {
      "cell_type": "code",
      "source": [
        "# Importe aqui a biblioteca Numpy:\n"
      ],
      "metadata": {
        "id": "eH_H8Gj_NuCh"
      },
      "execution_count": null,
      "outputs": []
    },
    {
      "cell_type": "markdown",
      "source": [
        "Execute a célula a seguir:"
      ],
      "metadata": {
        "id": "4VpbTlCjRsKC"
      }
    },
    {
      "cell_type": "code",
      "source": [
        "# Esta célula gerará o vetor de dez números aleatórios de 0 a 99 para as próximas questões:\n",
        "SEED = int(input('Digite os dois últimos números do seu RM: '))\n",
        "np.random.seed(SEED)\n",
        "vetor = np.random.randint(0, 100, 10)\n",
        "print(f'Este é o seu vetor: {vetor}')"
      ],
      "metadata": {
        "id": "Whn3GnmCO_ho"
      },
      "execution_count": null,
      "outputs": []
    },
    {
      "cell_type": "markdown",
      "source": [
        "Este é o vetor que seu grupo utilizará para as questões seguintes."
      ],
      "metadata": {
        "id": "YWdVP09iOVKs"
      }
    },
    {
      "cell_type": "markdown",
      "source": [
        "# Questão 01 (2.00 pontos):\n",
        "Usando as funções do Numpy, calcule a média aritmética simples, a mediana e o desvio padrão com base no vetor gerado.\n",
        "\n",
        "Utilize strings formatadas (f-print) para a apresentação dos valores, todos com três casas decimais."
      ],
      "metadata": {
        "id": "Pp0uY_4m8U2x"
      }
    },
    {
      "cell_type": "code",
      "source": [
        "# Utilize as células a seguir para a resolução da questão (crie quantas células forem necessárias)\n"
      ],
      "metadata": {
        "id": "hXUK1jRbP8QJ"
      },
      "execution_count": null,
      "outputs": []
    },
    {
      "cell_type": "code",
      "source": [],
      "metadata": {
        "id": "_7mP_oGIRaLT"
      },
      "execution_count": null,
      "outputs": []
    },
    {
      "cell_type": "markdown",
      "source": [
        "# Questão 02 (2.00 pontos)\n",
        "\n"
      ],
      "metadata": {
        "id": "K9we1Afu9OMh"
      }
    },
    {
      "cell_type": "code",
      "source": [
        "# Importe aqui a biblioteca Pandas:\n"
      ],
      "metadata": {
        "id": "EMvnXjyeSP4T"
      },
      "execution_count": null,
      "outputs": []
    },
    {
      "cell_type": "markdown",
      "source": [
        "Importante: copie o arquivo \"FuelConsumptionCo2.csv\" para o armazenamento da sessão do Colab para as próximas etapas."
      ],
      "metadata": {
        "id": "3Ei0S2XDTC3N"
      }
    },
    {
      "cell_type": "code",
      "source": [
        "# Crie uma variável para armazenar o conjunto de dados:\n"
      ],
      "metadata": {
        "id": "CVGFxxP0SPfP"
      },
      "execution_count": null,
      "outputs": []
    },
    {
      "cell_type": "code",
      "source": [
        "# Visualize as primeiras linhas:\n"
      ],
      "metadata": {
        "id": "YrEsPj3TTb5q"
      },
      "execution_count": null,
      "outputs": []
    },
    {
      "cell_type": "code",
      "source": [
        "# Visualize as últimas linhas:\n"
      ],
      "metadata": {
        "id": "rd0ECifTTbuB"
      },
      "execution_count": null,
      "outputs": []
    },
    {
      "cell_type": "code",
      "source": [
        "# Quantas linhas e quantas colunas o dataset possui?\n"
      ],
      "metadata": {
        "id": "FZpv7IXwTbgg"
      },
      "execution_count": null,
      "outputs": []
    },
    {
      "cell_type": "code",
      "source": [
        "# Quais tipos de variáveis o dataset possui?\n"
      ],
      "metadata": {
        "id": "4szvGs2MTxln"
      },
      "execution_count": null,
      "outputs": []
    },
    {
      "cell_type": "code",
      "source": [
        "# Mostre a tabela de estatíticas descritivas do dataset.\n"
      ],
      "metadata": {
        "id": "71IDCUJGUCLB"
      },
      "execution_count": null,
      "outputs": []
    },
    {
      "cell_type": "markdown",
      "source": [
        "# Questão 03 (2.00 pontos)"
      ],
      "metadata": {
        "id": "ed8-NMMG_b_4"
      }
    },
    {
      "cell_type": "code",
      "source": [
        "# Selecione uma coluna (de sua preferência) do dataset importado acima que possua valores numéricos:\n"
      ],
      "metadata": {
        "id": "7pQhUmjgSUxK"
      },
      "execution_count": null,
      "outputs": []
    },
    {
      "cell_type": "code",
      "source": [
        "# Crie uma variável e armazene os dados da coluna no formato Series:\n"
      ],
      "metadata": {
        "id": "8vFqosacSUoT"
      },
      "execution_count": null,
      "outputs": []
    },
    {
      "cell_type": "code",
      "source": [
        "# Crie uma variável e armazene os dados da coluna no formato DataFrame:\n"
      ],
      "metadata": {
        "id": "4SvMJ4wwSUgO"
      },
      "execution_count": null,
      "outputs": []
    },
    {
      "cell_type": "code",
      "source": [
        "# Usando as funções do Numpy, calcule a média aritmética simples, a mediana e o desvio padrão dos valores da coluna selecionada.\n",
        "# Utilize strings formatadas (f-print) para a apresentação dos valores, todos com três casas decimais.\n"
      ],
      "metadata": {
        "id": "EggcIfOMSUWh"
      },
      "execution_count": null,
      "outputs": []
    },
    {
      "cell_type": "markdown",
      "source": [
        "# Questão 04 (2.00 pontos)"
      ],
      "metadata": {
        "id": "T2bRDO-XVuXI"
      }
    },
    {
      "cell_type": "code",
      "source": [
        "# Geração da primeira amostra.\n",
        "# Usando o método .iloc, gere uma amostra de 10%, com base nos primeiros valores da coluna utilizada acima."
      ],
      "metadata": {
        "id": "VSGN7EQ-VmnS"
      },
      "execution_count": null,
      "outputs": []
    },
    {
      "cell_type": "code",
      "source": [],
      "metadata": {
        "id": "zLhn6DHpWa2P"
      },
      "execution_count": null,
      "outputs": []
    },
    {
      "cell_type": "code",
      "source": [],
      "metadata": {
        "id": "zZgE9dtQWanC"
      },
      "execution_count": null,
      "outputs": []
    },
    {
      "cell_type": "code",
      "source": [
        "# Usando as funções do Numpy, calcule a média aritmética simples, a mediana e o desvio padrão dos valores da amostra criada.\n",
        "# Utilize strings formatadas (f-print) para a apresentação dos valores, todos com três casas decimais.\n"
      ],
      "metadata": {
        "id": "giqOlu-iWSPi"
      },
      "execution_count": null,
      "outputs": []
    },
    {
      "cell_type": "code",
      "source": [],
      "metadata": {
        "id": "h7a1RvcaWbie"
      },
      "execution_count": null,
      "outputs": []
    },
    {
      "cell_type": "code",
      "source": [],
      "metadata": {
        "id": "YXaMrly0WbZw"
      },
      "execution_count": null,
      "outputs": []
    },
    {
      "cell_type": "markdown",
      "source": [
        "# Questão 05 (2.00 pontos)"
      ],
      "metadata": {
        "id": "JlS9q-5_Wcrt"
      }
    },
    {
      "cell_type": "code",
      "source": [
        "# Geração da segunda amostra.\n",
        "# Utilize o método .sample, conforme visto na aula, para gerar uma amostra aleatória do mesmo tamanho da amostra da questão anterior.\n"
      ],
      "metadata": {
        "id": "rS34JIXVWg_Z"
      },
      "execution_count": null,
      "outputs": []
    },
    {
      "cell_type": "code",
      "source": [],
      "metadata": {
        "id": "0gFvz9vYWrzi"
      },
      "execution_count": null,
      "outputs": []
    },
    {
      "cell_type": "code",
      "source": [],
      "metadata": {
        "id": "q10pNxKWWrt9"
      },
      "execution_count": null,
      "outputs": []
    },
    {
      "cell_type": "code",
      "source": [
        "# Usando as funções do Numpy, calcule a média aritmética simples, a mediana e o desvio padrão dos valores da amostra criada.\n",
        "# Utilize strings formatadas (f-print) para a apresentação dos valores, todos com três casas decimais."
      ],
      "metadata": {
        "id": "PxHWAYeXWt4o"
      },
      "execution_count": null,
      "outputs": []
    },
    {
      "cell_type": "code",
      "source": [],
      "metadata": {
        "id": "d37GL06bWtah"
      },
      "execution_count": null,
      "outputs": []
    },
    {
      "cell_type": "code",
      "source": [],
      "metadata": {
        "id": "YyfZFY1uWtVO"
      },
      "execution_count": null,
      "outputs": []
    }
  ],
  "metadata": {
    "colab": {
      "provenance": []
    },
    "kernelspec": {
      "name": "python",
      "language": "python",
      "display_name": "Pyolite (preview)"
    },
    "language_info": {
      "codemirror_mode": {
        "name": "python",
        "version": 3
      },
      "file_extension": ".py",
      "mimetype": "text/x-python",
      "name": "python",
      "nbconvert_exporter": "python",
      "pygments_lexer": "ipython3",
      "version": "3.8"
    },
    "kernel_info": {
      "name": "python"
    },
    "nteract": {
      "version": "nteract-front-end@1.0.0"
    }
  },
  "nbformat": 4,
  "nbformat_minor": 0
}