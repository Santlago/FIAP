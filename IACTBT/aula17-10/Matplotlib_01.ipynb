{
  "nbformat": 4,
  "nbformat_minor": 0,
  "metadata": {
    "colab": {
      "provenance": []
    },
    "kernelspec": {
      "name": "python3",
      "display_name": "Python 3"
    },
    "language_info": {
      "name": "python"
    }
  },
  "cells": [
    {
      "cell_type": "markdown",
      "source": [
        "## Importando o matplotlib e o pacote pyplot\n",
        "\n",
        "Documentação e referências:\n",
        "\n",
        "https://matplotlib.org/stable/api/_as_gen/matplotlib.pyplot.plot.html\n",
        "\n",
        "https://matplotlib.org/stable/tutorials/pyplot.html\n",
        "\n",
        "https://www.w3schools.com/python/matplotlib_plotting.asp"
      ],
      "metadata": {
        "id": "KHf0X5c_6XcG"
      }
    },
    {
      "cell_type": "code",
      "execution_count": null,
      "metadata": {
        "id": "aDZSuKM96ULX"
      },
      "outputs": [],
      "source": [
        "import matplotlib.pyplot as plt\n",
        "import numpy as np"
      ]
    },
    {
      "cell_type": "code",
      "source": [
        "x = [1, 2, 3, 4, 5]\n",
        "y = [2, 4, 6, 8, 10]\n",
        "\n",
        "plt.plot(x, y)\n",
        "plt.show()"
      ],
      "metadata": {
        "id": "EYr_IDQi6khj"
      },
      "execution_count": null,
      "outputs": []
    },
    {
      "cell_type": "markdown",
      "source": [
        "# Gráficos de linha"
      ],
      "metadata": {
        "id": "b9k0TyB4AAPN"
      }
    },
    {
      "cell_type": "code",
      "source": [
        "# Definindo os dados de x e y, o estilo de linha e o nome do gráfico\n",
        "\n",
        "# linestyle: estilo de linha ('-', '--', '-.', ':', 'None', ' ', '', 'solid', 'dashed', 'dashdot', 'dotted')\n",
        "\n",
        "plt.plot(x, y, linestyle='dashdot', color='r', lw='4', label = 'Dados')\n",
        "\n",
        "# Mostrando a legenda do gráfico\n",
        "plt.legend()\n",
        "\n",
        "# Definindo os nomes dos eixos\n",
        "plt.ylabel('Eixo y')\n",
        "plt.xlabel('Eixo x')\n",
        "\n",
        "# Definindo o título do gráfico\n",
        "plt.title('Título do gráfico')\n",
        "\n",
        "# Definindo os labels das escalas dos eixos\n",
        "# plt.xticks([0, 2, 4, 6, 8, 10])\n",
        "# plt.yticks([-1, 0, 1, 2, 3, 8, 11])\n",
        "\n",
        "# Mostrando o gráfico\n",
        "plt.show()"
      ],
      "metadata": {
        "id": "fBZ8kUrB7RWZ"
      },
      "execution_count": null,
      "outputs": []
    },
    {
      "cell_type": "markdown",
      "source": [
        "# Gráficos de Dispersão (Scatterplot)"
      ],
      "metadata": {
        "id": "6foGRk5hAD2_"
      }
    },
    {
      "cell_type": "code",
      "source": [
        "plt.scatter(x, y, color='k', marker='x')\n",
        "plt.show()"
      ],
      "metadata": {
        "id": "LAXxHeOw7iXQ"
      },
      "execution_count": null,
      "outputs": []
    },
    {
      "cell_type": "markdown",
      "source": [
        "# Gráficos de barra"
      ],
      "metadata": {
        "id": "itQRvp50AS3P"
      }
    },
    {
      "cell_type": "code",
      "source": [
        "plt.bar(x, y)\n",
        "plt.show()"
      ],
      "metadata": {
        "id": "QAeg1j7wAPiN"
      },
      "execution_count": null,
      "outputs": []
    },
    {
      "cell_type": "markdown",
      "source": [
        "# Histograma"
      ],
      "metadata": {
        "id": "4NGFL5e-AeRH"
      }
    },
    {
      "cell_type": "code",
      "source": [
        "plt.hist(x, y)\n",
        "plt.show()"
      ],
      "metadata": {
        "id": "rpHaKr-rAbtF"
      },
      "execution_count": null,
      "outputs": []
    },
    {
      "cell_type": "markdown",
      "source": [
        "Alterando os limites dos eixos"
      ],
      "metadata": {
        "id": "Jjv6WMVtRN3a"
      }
    },
    {
      "cell_type": "code",
      "source": [
        "plt.plot(x, y)\n",
        "# plt.axis('square')\n",
        "# plt.axis('auto')\n",
        "plt.axis(xmin=0, xmax=10, ymin=0, ymax=10)\n",
        "plt.show()"
      ],
      "metadata": {
        "id": "9ZXhuZFKAkid"
      },
      "execution_count": null,
      "outputs": []
    },
    {
      "cell_type": "markdown",
      "source": [
        "Definindo uma figura"
      ],
      "metadata": {
        "id": "9QF42M4-SC4S"
      }
    },
    {
      "cell_type": "code",
      "source": [
        "# Usando o método figure\n",
        "\n",
        "x_lista = [1, 2, 3, 4, 5]\n",
        "y_lista = [2, 4, 6, 8, 10]\n",
        "\n",
        "# Figura para adicionar nossos gráficos\n",
        "figura = plt.figure(figsize= (12,3))\n",
        "figura.suptitle('Título Principal')\n",
        "\n",
        "# 131: A figura receberá 1 linha, 3 colunas e um gráfico na posição 1\n",
        "figura.add_subplot(131)\n",
        "\n",
        "plt.plot(x_lista, y_lista, label='Teste')\n",
        "plt.legend()\n",
        "plt.title('Gráfico 1')\n",
        "\n",
        "# 132: A figura terá 1 linha, 3 colunas e um gráfico na posição 2\n",
        "figura.add_subplot(132)\n",
        "plt.bar(x_lista, y_lista)\n",
        "plt.title('Gráfico 2')\n",
        "\n",
        "# 131: A figura terá 1 linha, 3 colunas e um gráfico na posição 3\n",
        "figura.add_subplot(133)\n",
        "plt.scatter(x_lista, y_lista)\n",
        "plt.title('Gráfico 3')\n",
        "\n",
        "plt.savefig('graficos.png')\n",
        "\n",
        "plt.show(figura)"
      ],
      "metadata": {
        "id": "Imee8z6oR1uB"
      },
      "execution_count": null,
      "outputs": []
    },
    {
      "cell_type": "markdown",
      "source": [
        "Exemplo com o Pandas"
      ],
      "metadata": {
        "id": "grEHmgR-VC8U"
      }
    },
    {
      "cell_type": "code",
      "source": [
        "import pandas as pd"
      ],
      "metadata": {
        "id": "Smt1b1lOS3q-"
      },
      "execution_count": null,
      "outputs": []
    },
    {
      "cell_type": "code",
      "source": [
        "df = pd.read_csv('indexData.csv')\n",
        "df.head()"
      ],
      "metadata": {
        "id": "TJgZC896VGUs"
      },
      "execution_count": null,
      "outputs": []
    },
    {
      "cell_type": "code",
      "source": [
        "df1 = df[['Index', 'Date', 'Close']]\n",
        "df1.head()"
      ],
      "metadata": {
        "id": "Zw276TPxWXYs"
      },
      "execution_count": null,
      "outputs": []
    },
    {
      "cell_type": "code",
      "source": [
        "df2 = df.loc[(df['Index']!= 'NYA')]\n",
        "\n",
        "df3 = df1.drop(df2.index)\n",
        "\n",
        "df3"
      ],
      "metadata": {
        "id": "RqhBEhxeWrv5"
      },
      "execution_count": null,
      "outputs": []
    },
    {
      "cell_type": "code",
      "source": [
        "df3 = df3[13800:]\n",
        "df3"
      ],
      "metadata": {
        "id": "S71WBhDHXbkS"
      },
      "execution_count": null,
      "outputs": []
    },
    {
      "cell_type": "code",
      "source": [
        "plt.figure(figsize=(20,4))\n",
        "plt.plot(df3['Date'], df3['Close'], label= 'NYA', color = 'g', ls='--', lw='2')\n",
        "plt.legend(loc=2, fontsize= 16)\n",
        "\n",
        "plt.ylabel('Valor de Fechamento')\n",
        "plt.xlabel('Data da Cotação')\n",
        "plt.title('Gráfico da cotação histórica da bolsa NYA')\n",
        "\n",
        "plt.axis('auto')\n",
        "\n",
        "plt.show()"
      ],
      "metadata": {
        "id": "LHsrkcNYXxfb"
      },
      "execution_count": null,
      "outputs": []
    },
    {
      "cell_type": "code",
      "source": [],
      "metadata": {
        "id": "e4KcChyfX14t"
      },
      "execution_count": null,
      "outputs": []
    },
    {
      "cell_type": "code",
      "source": [],
      "metadata": {
        "id": "-3tQSnzkX110"
      },
      "execution_count": null,
      "outputs": []
    },
    {
      "cell_type": "code",
      "source": [],
      "metadata": {
        "id": "1itIxfsqX1yu"
      },
      "execution_count": null,
      "outputs": []
    },
    {
      "cell_type": "code",
      "source": [],
      "metadata": {
        "id": "SgkKfvmXX1vW"
      },
      "execution_count": null,
      "outputs": []
    },
    {
      "cell_type": "code",
      "source": [],
      "metadata": {
        "id": "UzCkAJVSX1rZ"
      },
      "execution_count": null,
      "outputs": []
    },
    {
      "cell_type": "code",
      "source": [],
      "metadata": {
        "id": "UK5tnCPpX1ij"
      },
      "execution_count": null,
      "outputs": []
    }
  ]
}