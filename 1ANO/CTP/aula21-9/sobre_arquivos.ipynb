{
 "cells": [
  {
   "attachments": {},
   "cell_type": "markdown",
   "metadata": {},
   "source": [
    "# Arquivos\n",
    "\n",
    "Função open () **Sintaxe**:\n",
    "\n",
    "```<objeto> = open(\"<arquivo_fisico>\", \"<forma de abertura>\", ...)```\n",
    "## Modo Escrita - w\n",
    "\n",
    "Abrindo o arquivo"
   ]
  },
  {
   "cell_type": "code",
   "execution_count": 4,
   "metadata": {},
   "outputs": [
    {
     "data": {
      "text/plain": [
       "30"
      ]
     },
     "execution_count": 4,
     "metadata": {},
     "output_type": "execute_result"
    }
   ],
   "source": [
    "arq = open(\"arq01.txt\", \"w\")\n",
    "arq.write(\"Gravando a linha 1 no arquivo.\\n\")\n",
    "arq.write(\"Gravando a linha 2 no arquivo.\\n\")\n",
    "arq.write(\"Gravando a linha 3 no arquivo.\\n\")\n",
    "arq.close()\n",
    "\n",
    "arq = open(\"arq01\", \"w\")\n",
    "arq.write(\"Nova linha.\\n\")\n",
    "arq.close()"
   ]
  },
  {
   "cell_type": "code",
   "execution_count": 5,
   "metadata": {},
   "outputs": [],
   "source": [
    "arq = open(\"arq02.txt\", \"w\")\n",
    "for i in range(1, 10, 1):\n",
    "    arq.write(f\"linha {i}\\n\")\n",
    "arq.close()"
   ]
  },
  {
   "attachments": {},
   "cell_type": "markdown",
   "metadata": {},
   "source": [
    "## Gravando uma lista no arquivo"
   ]
  },
  {
   "cell_type": "code",
   "execution_count": 7,
   "metadata": {},
   "outputs": [],
   "source": [
    "arq = open(\"arq03.txt\", \"w\", encoding=\"utf-8\")\n",
    "lista = [\"Edson\", 49, \"Rua Tal, 34\"]\n",
    "arq.write(f\"{lista}\")\n",
    "arq.write(f\"{lista[0]}\\n\")\n",
    "arq.write(f\"{lista[1]}\\n\")\n",
    "arq.write(f\"{lista[2]}\\n\")\n",
    "arq.close()"
   ]
  },
  {
   "attachments": {},
   "cell_type": "markdown",
   "metadata": {},
   "source": [
    "## Carregando um aquivo do disco:"
   ]
  },
  {
   "cell_type": "code",
   "execution_count": 10,
   "metadata": {},
   "outputs": [
    {
     "name": "stdout",
     "output_type": "stream",
     "text": [
      "-------------------------------------------\n",
      "Carregando do Arquivo: \n",
      "['Edson', 49, 'Rua Tal, 34']Edson\n",
      "49\n",
      "Rua Tal, 34\n",
      "\n",
      "-------------------------------------------\n"
     ]
    }
   ],
   "source": [
    "arq = open(\"arq03.txt\", \"r\", encoding=\"utf-8\")\n",
    "print(\"-------------------------------------------\")\n",
    "print(f\"Carregando do Arquivo: \\n{arq.read()}\")\n",
    "print(\"-------------------------------------------\")\n",
    "arq.close()"
   ]
  },
  {
   "attachments": {},
   "cell_type": "markdown",
   "metadata": {},
   "source": [
    "## Editando um arquivo (append)"
   ]
  },
  {
   "cell_type": "code",
   "execution_count": 11,
   "metadata": {},
   "outputs": [],
   "source": [
    "arq = open(\"arq03.txt\", \"a\", encoding=\"utf-8\")\n",
    "arq.write(\"Olha! Nova linha\")\n",
    "arq.close()"
   ]
  },
  {
   "attachments": {},
   "cell_type": "markdown",
   "metadata": {},
   "source": [
    "## Abindo para escrita em modo exclusivo (x)"
   ]
  },
  {
   "cell_type": "code",
   "execution_count": null,
   "metadata": {},
   "outputs": [],
   "source": [
    "arq = open(\"arq04.txt\", \"x\", encoding=\"utf-8\")\n",
    "arq.write(\"Novo arquivo!\")\n",
    "arq.close()"
   ]
  },
  {
   "attachments": {},
   "cell_type": "markdown",
   "metadata": {},
   "source": [
    "## Gravando um dicionário no arquivo:"
   ]
  },
  {
   "cell_type": "code",
   "execution_count": null,
   "metadata": {},
   "outputs": [],
   "source": [
    "arq = open(\"arq06.txt\", \"w\", encoding=\"utf-8\")\n",
    "contato = {\n",
    "    \"nome\" : \"Edson\",\n",
    "    \"idade\" : 44,\n",
    "    \"endereco\" : \"Rua Tal\"\n",
    "}\n",
    "\n",
    "arq.write(f\"{contato}\\n\")\n",
    "arq.write(f\"Nome..........: {contato['nome']}\\n\")\n",
    "arq.write(f\"Idade.........: {contato['idade']}\\n\")\n",
    "arq.write(f\"Endereço......: {contato['endereco']}\\n\")\n",
    "for elem in contato:\n",
    "    arq.write(f\"{key}\")\n",
    "arq.close()"
   ]
  },
  {
   "attachments": {},
   "cell_type": "markdown",
   "metadata": {},
   "source": [
    "## Abrindo um arquivo para gravação e leitura (+)"
   ]
  },
  {
   "cell_type": "code",
   "execution_count": 13,
   "metadata": {},
   "outputs": [
    {
     "name": "stdout",
     "output_type": "stream",
     "text": [
      "Linha 2\n",
      "\n"
     ]
    }
   ],
   "source": [
    "arq = open(\"arq07.txt\", \"w+\", encoding=\"utf-8\")\n",
    "arq.write(\"Linha 1\\n\")\n",
    "arq.write(\"Linha 2\\n\")\n",
    "arq.write(\"Linha 3\\n\")\n",
    "arq.seek(0)\n",
    "\n",
    "tam = len(arq.readline())\n",
    "arq.seek(tam + 1)\n",
    "print(arq.readline())\n",
    "arq.close()\n"
   ]
  },
  {
   "attachments": {},
   "cell_type": "markdown",
   "metadata": {},
   "source": [
    "## Criando uma lista com as linhas do arquivo:"
   ]
  },
  {
   "cell_type": "code",
   "execution_count": 23,
   "metadata": {},
   "outputs": [
    {
     "name": "stdout",
     "output_type": "stream",
     "text": [
      "Linha 2\n",
      "\n",
      "Teste\n",
      "\n",
      "Linha 4\n",
      "\n"
     ]
    }
   ],
   "source": [
    "arq = open(\"arq08.txt\", \"w+\", encoding=\"utf-8\")\n",
    "arq.write(\"Linha 1aaaaaaaaaaaaaaaaaaaaaaaaa\\n\")\n",
    "arq.write(\"Linha 2\\n\")\n",
    "arq.write(\"Teste\\n\")\n",
    "arq.write(\"Linha 3aaaaaaaaaaaaaaaaaaa\\n\")\n",
    "arq.write(\"Linha 4\\n\")\n",
    "arq.seek(0)\n",
    "linhas_arquivo = arq.readlines()\n",
    "for elem in linhas_arquivo:\n",
    "    if len(elem) < 20:\n",
    "        print(elem)"
   ]
  }
 ],
 "metadata": {
  "kernelspec": {
   "display_name": "Python 3",
   "language": "python",
   "name": "python3"
  },
  "language_info": {
   "codemirror_mode": {
    "name": "ipython",
    "version": 3
   },
   "file_extension": ".py",
   "mimetype": "text/x-python",
   "name": "python",
   "nbconvert_exporter": "python",
   "pygments_lexer": "ipython3",
   "version": "3.11.4"
  },
  "orig_nbformat": 4
 },
 "nbformat": 4,
 "nbformat_minor": 2
}
