{
 "cells": [
  {
   "cell_type": "markdown",
   "metadata": {},
   "source": [
    "### Listas\n",
    "```python\n",
    "# listas\n",
    "listas = [4,7,6,8]\n",
    "# tuplas\n",
    "listas = (4,7,6,8)\n",
    "# dicionarios -> os elementos do dicionário devem ser colocados entre chaves {}\n",
    "```"
   ]
  },
  {
   "cell_type": "markdown",
   "metadata": {},
   "source": [
    "### Dicionários <br>\n",
    "Dicionários são estruturas de dados que trabalham com CAMPOS e VALORES, keys e values respectivamente. <br>\n",
    "As keys e values são separados por dois pontos e sempre a key deve ser colocada entra aspas simples ou duplas.\n",
    "\n",
    "#### Criando um dicionário vazio"
   ]
  },
  {
   "cell_type": "code",
   "execution_count": 2,
   "metadata": {},
   "outputs": [
    {
     "name": "stdout",
     "output_type": "stream",
     "text": [
      "{}\n"
     ]
    }
   ],
   "source": [
    "dados = dict() # Cria um dicionário vazio | tuple() e list() são para tuplas e listas\n",
    "# ou\n",
    "dados = {}\n",
    "print(dados)"
   ]
  },
  {
   "cell_type": "markdown",
   "metadata": {},
   "source": [
    "Criando um dicionario com valores iniciais:"
   ]
  },
  {
   "cell_type": "code",
   "execution_count": 3,
   "metadata": {},
   "outputs": [
    {
     "name": "stdout",
     "output_type": "stream",
     "text": [
      "{'nome': 'Edson de Oliveira', 'idade': 49, 'email': 'profedson.oliveira@fiap.com.br'}\n"
     ]
    }
   ],
   "source": [
    "dados = {\n",
    "    # key  : value\n",
    "    'nome' : 'Edson de Oliveira',\n",
    "    'idade': 49,\n",
    "    'email': 'profedson.oliveira@fiap.com.br'\n",
    "}\n",
    "\n",
    "print(dados)"
   ]
  },
  {
   "cell_type": "markdown",
   "metadata": {},
   "source": [
    "Acrescentando um campo (key) em um dicionário existente:"
   ]
  },
  {
   "cell_type": "code",
   "execution_count": 4,
   "metadata": {},
   "outputs": [
    {
     "name": "stdout",
     "output_type": "stream",
     "text": [
      "Original:  {'nome': 'Edson de Oliveira', 'idade': 49, 'email': 'profedson.oliveira@fiap.com.br'}\n",
      "Campo add: {'nome': 'Edson de Oliveira', 'idade': 49, 'email': 'profedson.oliveira@fiap.com.br', 'endereco': 'Rua Tal, 56 - apto 98', 'cep': ''}\n"
     ]
    }
   ],
   "source": [
    "print(\"Original: \", dados)\n",
    "# para add uma nova key no dicionario\n",
    "# dicionario['novo_campo'] = conteudo\n",
    "dados['endereco'] = 'Rua Tal, 56 - apto 98'\n",
    "dados['cep'] = ''\n",
    "print(\"Campo add:\", dados)"
   ]
  },
  {
   "cell_type": "markdown",
   "metadata": {},
   "source": [
    "Removendo uma key do dicionário:"
   ]
  },
  {
   "cell_type": "code",
   "execution_count": 5,
   "metadata": {},
   "outputs": [
    {
     "name": "stdout",
     "output_type": "stream",
     "text": [
      "Original:  {'nome': 'Edson de Oliveira', 'idade': 49, 'email': 'profedson.oliveira@fiap.com.br', 'endereco': 'Rua Tal, 56 - apto 98', 'cep': ''}\n",
      "Diconario atualizado:  {'nome': 'Edson de Oliveira', 'idade': 49, 'email': 'profedson.oliveira@fiap.com.br', 'endereco': 'Rua Tal, 56 - apto 98', 'cep': ''}\n"
     ]
    }
   ],
   "source": [
    "print(\"Original: \", dados)\n",
    "## del dados['cep']\n",
    "print(\"Diconario atualizado: \", dados)"
   ]
  },
  {
   "cell_type": "markdown",
   "metadata": {},
   "source": [
    "Manipulando os dados do dicionário separadamente:\n",
    "```python\n",
    "dados = {\n",
    "    # key  : value\n",
    "    'nome' : 'Edson de Oliveira',\n",
    "    'idade': 49,\n",
    "    'email': 'profedson.oliveira@fiap.com.br'\n",
    "    'endereco': 'Rua Tal, 56 - apto 98',\n",
    "}\n",
    "```"
   ]
  },
  {
   "cell_type": "code",
   "execution_count": 6,
   "metadata": {},
   "outputs": [
    {
     "name": "stdout",
     "output_type": "stream",
     "text": [
      "{'nome': 'Edson de Oliveira', 'idade': 49, 'email': 'profedson.oliveira@fiap.com.br', 'endereco': 'Rua Tal, 56 - apto 98', 'cep': ''}\n",
      "\n",
      "Edson de Oliveira\n",
      "\n",
      "Nome.......: Edson de Oliveira\n",
      "Idade......: 49\n",
      "E-mail.....: profedson.oliveira@fiap.com.br\n",
      "Endereço...: Rua Tal, 56 - apto 98\n",
      "\n"
     ]
    },
    {
     "name": "stdout",
     "output_type": "stream",
     "text": [
      "Nome.......: breno lemes\n",
      "Idade......: 49\n",
      "E-mail.....: profedson.oliveira@fiap.com.br\n",
      "Endereço...: Rua Tal, 56 - apto 98\n",
      "\n"
     ]
    }
   ],
   "source": [
    "# Exibindo os dados brutos do dicionário\n",
    "print(dados)\n",
    "print()\n",
    "# Exibindo os dados separadamente\n",
    "print(dados['nome'])\n",
    "print()\n",
    "# Exibindo os dados separadamente e formatados\n",
    "print(f\"Nome.......: {dados['nome']}\")\n",
    "print(f\"Idade......: {dados['idade']}\")\n",
    "print(f\"E-mail.....: {dados['email']}\")\n",
    "print(f\"Endereço...: {dados['endereco']}\")\n",
    "print()\n",
    "# Alterando o compo nome do dicionário\n",
    "dados['nome'] = input(f\"Nome atual: {dados['nome']}\\nDigite um novo nome:\")\n",
    "print(f\"Nome.......: {dados['nome']}\")\n",
    "print(f\"Idade......: {dados['idade']}\")\n",
    "print(f\"E-mail.....: {dados['email']}\")\n",
    "print(f\"Endereço...: {dados['endereco']}\")\n",
    "print()\n",
    "\n"
   ]
  },
  {
   "cell_type": "markdown",
   "metadata": {},
   "source": [
    "## Métodos relacionados a Dicionários\n",
    "#### values()\n",
    "O método values retorna todos os valores (values) contidos em um dicionário."
   ]
  },
  {
   "cell_type": "code",
   "execution_count": 7,
   "metadata": {},
   "outputs": [
    {
     "name": "stdout",
     "output_type": "stream",
     "text": [
      "{'nome': 'breno lemes', 'idade': 49, 'email': 'profedson.oliveira@fiap.com.br', 'endereco': 'Rua Tal, 56 - apto 98', 'cep': ''}\n",
      "dict_values(['breno lemes', 49, 'profedson.oliveira@fiap.com.br', 'Rua Tal, 56 - apto 98', ''])\n",
      "['breno lemes', 49, 'profedson.oliveira@fiap.com.br', 'Rua Tal, 56 - apto 98', '']\n",
      "breno lemes\n"
     ]
    }
   ],
   "source": [
    "# Apresentando o Dicionário\n",
    "print(dados)\n",
    "# Apresentando os values (valores)\n",
    "print(dados.values())\n",
    "lista_valores = list(dados.values())\n",
    "print(lista_valores)\n",
    "print(lista_valores[0])"
   ]
  },
  {
   "cell_type": "markdown",
   "metadata": {},
   "source": [
    "#### keys()\n",
    "Captura todos os campos (keys) contidos em um dicionário."
   ]
  },
  {
   "cell_type": "code",
   "execution_count": 8,
   "metadata": {},
   "outputs": [
    {
     "name": "stdout",
     "output_type": "stream",
     "text": [
      "dict_keys(['nome', 'idade', 'email', 'endereco', 'cep'])\n",
      "dict_keys(['nome', 'idade', 'email', 'endereco', 'cep'])\n",
      "['nome', 'idade', 'email', 'endereco', 'cep']\n",
      "email\n"
     ]
    }
   ],
   "source": [
    "print(dados.keys())\n",
    "# Apresentando os campos (keys)\n",
    "print(dados.keys())\n",
    "lista_campos = list(dados.keys())\n",
    "print(lista_campos)\n",
    "print(lista_campos[2])"
   ]
  },
  {
   "cell_type": "markdown",
   "metadata": {},
   "source": [
    "#### items()\n",
    "Captura tanto as Keys quanto o Values do dicionário"
   ]
  },
  {
   "cell_type": "code",
   "execution_count": 9,
   "metadata": {},
   "outputs": [
    {
     "name": "stdout",
     "output_type": "stream",
     "text": [
      "{'nome': 'breno lemes', 'idade': 49, 'email': 'profedson.oliveira@fiap.com.br', 'endereco': 'Rua Tal, 56 - apto 98', 'cep': ''}\n",
      "dict_items([('nome', 'breno lemes'), ('idade', 49), ('email', 'profedson.oliveira@fiap.com.br'), ('endereco', 'Rua Tal, 56 - apto 98'), ('cep', '')])\n"
     ]
    }
   ],
   "source": [
    "print(dados)\n",
    "print(dados.items())"
   ]
  },
  {
   "cell_type": "markdown",
   "metadata": {},
   "source": [
    "#### Exemplos:"
   ]
  },
  {
   "cell_type": "code",
   "execution_count": 10,
   "metadata": {},
   "outputs": [
    {
     "name": "stdout",
     "output_type": "stream",
     "text": [
      "{'nome': 'breno lemes', 'idade': 49, 'email': 'profedson.oliveira@fiap.com.br', 'endereco': 'Rua Tal, 56 - apto 98', 'cep': ''}\n",
      "\n",
      "Nome.......: breno lemes\n",
      "Idade......: 49\n",
      "E-mail.....: profedson.oliveira@fiap.com.br\n",
      "Endereço...: Rua Tal, 56 - apto 98\n",
      "\n",
      "\n",
      "Nome.......: breno lemes\n",
      "Idade......: 49\n",
      "E-mail.....: profedson.oliveira@fiap.com.br\n",
      "Endereço...: Rua Tal, 56 - apto 98\n",
      "\n",
      "nome.......: breno lemes\n",
      "idade.......: 49\n",
      "email.......: profedson.oliveira@fiap.com.br\n",
      "endereco.......: Rua Tal, 56 - apto 98\n",
      "cep.......: 021034-984\n"
     ]
    }
   ],
   "source": [
    "# Exibindo o dicionário Bruto\n",
    "print(dados)\n",
    "\n",
    "# Exibindo os dados separadamente e formatados\n",
    "def exibe_dicionario(d: dict) -> None:\n",
    "    print(f\"\\nNome.......: {dados['nome']}\")\n",
    "    print(f\"Idade......: {dados['idade']}\")\n",
    "    print(f\"E-mail.....: {dados['email']}\")\n",
    "    print(f\"Endereço...: {dados['endereco']}\\n\")\n",
    "\n",
    "def exibe_dicionario2(d: dict) -> None:\n",
    "    for k, v in dados.items():\n",
    "        print(f\"{k}.......: {v}\")\n",
    "\n",
    "# Principal\n",
    "exibe_dicionario(dados)\n",
    "dados['cep'] = '021034-984'\n",
    "exibe_dicionario(dados)\n",
    "exibe_dicionario2(dados)\n",
    "\n"
   ]
  },
  {
   "cell_type": "markdown",
   "metadata": {},
   "source": [
    "#### Exercícios:\n",
    "* Faça cada exercício separadamente\n",
    "* Considere aplicá-los com subalgoritmo\n",
    "* Depois de fazer todos, crie um menu e permita a interação do usuário com as rotinas\n",
    "* Todas as rotinas devem ter interação com o usuário\n",
    "\n",
    "Crie um dicionário com ao menos 5 campos, preferencialmente de tipos diferentes.\n",
    "```\n",
    "1 - Exibir todo conteúdo do Dicionário\n",
    "2 - Permitir que o usuário preencha o Dicionário inteiro\n",
    "3 - Permitir ao usuário editar o value de somente um campo do dicionário\n",
    "4 - Permitir ao usuário inserir uma nova Key no dicionário\n",
    "5 - Exibir um campo específico solicitado pelo usuário\n",
    "6 - Remover um campo especifico decidido pelo usuário\n",
    "\n",
    "```"
   ]
  }
 ],
 "metadata": {
  "kernelspec": {
   "display_name": "Python 3.10.5 64-bit",
   "language": "python",
   "name": "python3"
  },
  "language_info": {
   "codemirror_mode": {
    "name": "ipython",
    "version": 3
   },
   "file_extension": ".py",
   "mimetype": "text/x-python",
   "name": "python",
   "nbconvert_exporter": "python",
   "pygments_lexer": "ipython3",
   "version": "3.10.8"
  },
  "orig_nbformat": 4,
  "vscode": {
   "interpreter": {
    "hash": "369f2c481f4da34e4445cda3fffd2e751bd1c4d706f27375911949ba6bb62e1c"
   }
  }
 },
 "nbformat": 4,
 "nbformat_minor": 2
}
